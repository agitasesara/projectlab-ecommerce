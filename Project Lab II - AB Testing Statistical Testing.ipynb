{
 "cells": [
  {
   "cell_type": "markdown",
   "metadata": {},
   "source": [
    "# Import Libraries"
   ]
  },
  {
   "cell_type": "code",
   "execution_count": 205,
   "metadata": {
    "ExecuteTime": {
     "end_time": "2022-06-30T13:44:45.413129Z",
     "start_time": "2022-06-30T13:44:45.401127Z"
    }
   },
   "outputs": [],
   "source": [
    "import pandas as pd\n",
    "import numpy as np\n",
    "\n",
    "import matplotlib as mpl\n",
    "import matplotlib.pyplot as plt\n",
    "import matplotlib.ticker as mtick\n",
    "import seaborn as sns\n",
    "import plotly.graph_objects as go\n",
    "\n",
    "import scipy.stats as scs\n",
    "import statsmodels.stats.api as sms\n",
    "from math import ceil\n",
    "\n",
    "import warnings \n",
    "warnings.filterwarnings('ignore')\n",
    "pd.set_option('display.max_rows', 500)\n",
    "pd.set_option('display.max_columns', 500)\n",
    "pd.set_option('display.width', 1000)"
   ]
  },
  {
   "cell_type": "markdown",
   "metadata": {},
   "source": [
    "# Reading Data"
   ]
  },
  {
   "cell_type": "markdown",
   "metadata": {},
   "source": [
    "## Data Information"
   ]
  },
  {
   "cell_type": "markdown",
   "metadata": {},
   "source": [
    "|Column Name|Description|\n",
    "| --- | --- |\n",
    "|User ID |Sample of A/B testing. The list is random|\n",
    "|Timestamp|Timestamp where the A/B testing was taken|\n",
    "|Group|Treatment and Control|\n",
    "|Landing Page|Old Page and New Page. New Page for Treatment, Old Page for Control|\n",
    "|Converted|0 and 1. 0 new landing page did not affect user conversion, 1 new landing page affect user conversion|\n",
    "\n"
   ]
  },
  {
   "cell_type": "markdown",
   "metadata": {},
   "source": [
    "## Reading Dataset"
   ]
  },
  {
   "cell_type": "code",
   "execution_count": 206,
   "metadata": {
    "ExecuteTime": {
     "end_time": "2022-06-30T13:44:46.988083Z",
     "start_time": "2022-06-30T13:44:46.980582Z"
    }
   },
   "outputs": [],
   "source": [
    "dataset_info = {\"filename\" : \"data/ab.csv\",\n",
    "                \"separator\" : \",\"}"
   ]
  },
  {
   "cell_type": "code",
   "execution_count": 207,
   "metadata": {
    "ExecuteTime": {
     "end_time": "2022-06-30T13:44:47.608117Z",
     "start_time": "2022-06-30T13:44:47.417582Z"
    }
   },
   "outputs": [],
   "source": [
    "df = pd.read_csv(dataset_info['filename'], dataset_info['separator'])"
   ]
  },
  {
   "cell_type": "code",
   "execution_count": 208,
   "metadata": {
    "ExecuteTime": {
     "end_time": "2022-06-30T13:44:47.948687Z",
     "start_time": "2022-06-30T13:44:47.930684Z"
    }
   },
   "outputs": [
    {
     "data": {
      "text/html": [
       "<div>\n",
       "<style scoped>\n",
       "    .dataframe tbody tr th:only-of-type {\n",
       "        vertical-align: middle;\n",
       "    }\n",
       "\n",
       "    .dataframe tbody tr th {\n",
       "        vertical-align: top;\n",
       "    }\n",
       "\n",
       "    .dataframe thead th {\n",
       "        text-align: right;\n",
       "    }\n",
       "</style>\n",
       "<table border=\"1\" class=\"dataframe\">\n",
       "  <thead>\n",
       "    <tr style=\"text-align: right;\">\n",
       "      <th></th>\n",
       "      <th>user_id</th>\n",
       "      <th>timestamp</th>\n",
       "      <th>group</th>\n",
       "      <th>landing_page</th>\n",
       "      <th>converted</th>\n",
       "    </tr>\n",
       "  </thead>\n",
       "  <tbody>\n",
       "    <tr>\n",
       "      <th>0</th>\n",
       "      <td>851104</td>\n",
       "      <td>2017-01-21 22:11:48.556739</td>\n",
       "      <td>control</td>\n",
       "      <td>old_page</td>\n",
       "      <td>0</td>\n",
       "    </tr>\n",
       "    <tr>\n",
       "      <th>1</th>\n",
       "      <td>804228</td>\n",
       "      <td>2017-01-12 08:01:45.159739</td>\n",
       "      <td>control</td>\n",
       "      <td>old_page</td>\n",
       "      <td>0</td>\n",
       "    </tr>\n",
       "    <tr>\n",
       "      <th>2</th>\n",
       "      <td>661590</td>\n",
       "      <td>2017-01-11 16:55:06.154213</td>\n",
       "      <td>treatment</td>\n",
       "      <td>new_page</td>\n",
       "      <td>0</td>\n",
       "    </tr>\n",
       "    <tr>\n",
       "      <th>3</th>\n",
       "      <td>853541</td>\n",
       "      <td>2017-01-08 18:28:03.143765</td>\n",
       "      <td>treatment</td>\n",
       "      <td>new_page</td>\n",
       "      <td>0</td>\n",
       "    </tr>\n",
       "    <tr>\n",
       "      <th>4</th>\n",
       "      <td>864975</td>\n",
       "      <td>2017-01-21 01:52:26.210827</td>\n",
       "      <td>control</td>\n",
       "      <td>old_page</td>\n",
       "      <td>1</td>\n",
       "    </tr>\n",
       "  </tbody>\n",
       "</table>\n",
       "</div>"
      ],
      "text/plain": [
       "   user_id                   timestamp      group landing_page  converted\n",
       "0   851104  2017-01-21 22:11:48.556739    control     old_page          0\n",
       "1   804228  2017-01-12 08:01:45.159739    control     old_page          0\n",
       "2   661590  2017-01-11 16:55:06.154213  treatment     new_page          0\n",
       "3   853541  2017-01-08 18:28:03.143765  treatment     new_page          0\n",
       "4   864975  2017-01-21 01:52:26.210827    control     old_page          1"
      ]
     },
     "execution_count": 208,
     "metadata": {},
     "output_type": "execute_result"
    }
   ],
   "source": [
    "df.head()"
   ]
  },
  {
   "cell_type": "code",
   "execution_count": 209,
   "metadata": {
    "ExecuteTime": {
     "end_time": "2022-06-30T13:44:48.442590Z",
     "start_time": "2022-06-30T13:44:48.404084Z"
    }
   },
   "outputs": [
    {
     "name": "stdout",
     "output_type": "stream",
     "text": [
      "<class 'pandas.core.frame.DataFrame'>\n",
      "RangeIndex: 294478 entries, 0 to 294477\n",
      "Data columns (total 5 columns):\n",
      " #   Column        Non-Null Count   Dtype \n",
      "---  ------        --------------   ----- \n",
      " 0   user_id       294478 non-null  int64 \n",
      " 1   timestamp     294478 non-null  object\n",
      " 2   group         294478 non-null  object\n",
      " 3   landing_page  294478 non-null  object\n",
      " 4   converted     294478 non-null  int64 \n",
      "dtypes: int64(2), object(3)\n",
      "memory usage: 11.2+ MB\n"
     ]
    }
   ],
   "source": [
    "df.info()"
   ]
  },
  {
   "cell_type": "code",
   "execution_count": 210,
   "metadata": {
    "ExecuteTime": {
     "end_time": "2022-06-30T13:44:48.953989Z",
     "start_time": "2022-06-30T13:44:48.900979Z"
    }
   },
   "outputs": [
    {
     "data": {
      "text/html": [
       "<div>\n",
       "<style scoped>\n",
       "    .dataframe tbody tr th:only-of-type {\n",
       "        vertical-align: middle;\n",
       "    }\n",
       "\n",
       "    .dataframe tbody tr th {\n",
       "        vertical-align: top;\n",
       "    }\n",
       "\n",
       "    .dataframe thead th {\n",
       "        text-align: right;\n",
       "    }\n",
       "</style>\n",
       "<table border=\"1\" class=\"dataframe\">\n",
       "  <thead>\n",
       "    <tr style=\"text-align: right;\">\n",
       "      <th>landing_page</th>\n",
       "      <th>new_page</th>\n",
       "      <th>old_page</th>\n",
       "    </tr>\n",
       "    <tr>\n",
       "      <th>group</th>\n",
       "      <th></th>\n",
       "      <th></th>\n",
       "    </tr>\n",
       "  </thead>\n",
       "  <tbody>\n",
       "    <tr>\n",
       "      <th>control</th>\n",
       "      <td>1928</td>\n",
       "      <td>145274</td>\n",
       "    </tr>\n",
       "    <tr>\n",
       "      <th>treatment</th>\n",
       "      <td>145311</td>\n",
       "      <td>1965</td>\n",
       "    </tr>\n",
       "  </tbody>\n",
       "</table>\n",
       "</div>"
      ],
      "text/plain": [
       "landing_page  new_page  old_page\n",
       "group                           \n",
       "control           1928    145274\n",
       "treatment       145311      1965"
      ]
     },
     "execution_count": 210,
     "metadata": {},
     "output_type": "execute_result"
    }
   ],
   "source": [
    "pd.crosstab(df['group'], df['landing_page'])"
   ]
  },
  {
   "cell_type": "markdown",
   "metadata": {},
   "source": [
    "# Data Preparation"
   ]
  },
  {
   "cell_type": "markdown",
   "metadata": {},
   "source": [
    "## Handling Data Duplication"
   ]
  },
  {
   "cell_type": "markdown",
   "metadata": {},
   "source": [
    "To ensure that the statistical testing is valid, we have to first ensure there is no duplicates in observations in the sample."
   ]
  },
  {
   "cell_type": "code",
   "execution_count": 211,
   "metadata": {
    "ExecuteTime": {
     "end_time": "2022-06-30T13:44:50.374796Z",
     "start_time": "2022-06-30T13:44:50.343790Z"
    }
   },
   "outputs": [
    {
     "name": "stdout",
     "output_type": "stream",
     "text": [
      "There are 3894 observations of user that appear multiple time in the dataset.\n"
     ]
    }
   ],
   "source": [
    "count_of_sessions = df['user_id'].value_counts(ascending=False)\n",
    "users_duplicated = count_of_sessions[count_of_sessions > 1].count()\n",
    "\n",
    "print(f'There are {users_duplicated} observations of user that appear multiple time in the dataset.')"
   ]
  },
  {
   "cell_type": "markdown",
   "metadata": {},
   "source": [
    "Because there are in fact duplication within the data, first we must handle this duplicates."
   ]
  },
  {
   "cell_type": "code",
   "execution_count": 212,
   "metadata": {
    "ExecuteTime": {
     "end_time": "2022-06-30T13:44:51.363931Z",
     "start_time": "2022-06-30T13:44:51.341927Z"
    }
   },
   "outputs": [
    {
     "name": "stdout",
     "output_type": "stream",
     "text": [
      "After dropping the duplicated data, now weare left with 286690 observations.\n"
     ]
    }
   ],
   "source": [
    "duplicates_to_drop = count_of_sessions[count_of_sessions > 1].index\n",
    "\n",
    "df = df[~df['user_id'].isin(duplicates_to_drop)]\n",
    "print(f'After dropping the duplicated data, now weare left with {df.shape[0]} observations.')"
   ]
  },
  {
   "cell_type": "markdown",
   "metadata": {},
   "source": [
    "# Statistical Testing: Frequentist Method"
   ]
  },
  {
   "cell_type": "markdown",
   "metadata": {},
   "source": [
    "## Formulating the Hypothesis"
   ]
  },
  {
   "cell_type": "markdown",
   "metadata": {},
   "source": [
    "There is two possibility out of this experiment, either the control group perform better than the treatment with statistical significance, or the opposite. Hence, we will use a two-tailed test, where:"
   ]
  },
  {
   "cell_type": "markdown",
   "metadata": {},
   "source": [
    "$$H_0:p=p_0$$"
   ]
  },
  {
   "cell_type": "markdown",
   "metadata": {},
   "source": [
    "The **null hypothesis** $H_0$ is the idea that there is no relationship in the population and that the relationship in the sample reflects only sampling error. "
   ]
  },
  {
   "cell_type": "markdown",
   "metadata": {},
   "source": [
    "$$H_1:p\\ne p_0$$"
   ]
  },
  {
   "cell_type": "markdown",
   "metadata": {},
   "source": [
    "The **alternative hypothesis** $H_1$ is the idea that there is a relationship in the population and that the relationship in the sample reflects this relationship in the population"
   ]
  },
  {
   "cell_type": "markdown",
   "metadata": {},
   "source": [
    "Where $p$ and $po$ represent the conversion rate of the control group (old page) and the treatment (new page). Conversion rate is calculated as follow:"
   ]
  },
  {
   "cell_type": "markdown",
   "metadata": {},
   "source": [
    "$$\\text{Conversion Rate}=\\frac{\\text{Total Converted}}{\\text{Total Observations}}$$"
   ]
  },
  {
   "cell_type": "markdown",
   "metadata": {},
   "source": [
    "For this statistical test, we will use confidence level of 95% or $\\alpha$=0.05. This means if the probability of observing a result (p-value) with significant difference is lower than $\\alpha$, then we reject the Null hypothesis, or the treatment (new page) can be considered to perform much better than control group (old page) with statistically significance and confidence interval of 95%."
   ]
  },
  {
   "cell_type": "markdown",
   "metadata": {},
   "source": [
    "## Calculating Conversion Rate by Group"
   ]
  },
  {
   "cell_type": "code",
   "execution_count": 213,
   "metadata": {
    "ExecuteTime": {
     "end_time": "2022-06-30T13:44:55.175777Z",
     "start_time": "2022-06-30T13:44:55.124767Z"
    }
   },
   "outputs": [
    {
     "data": {
      "text/html": [
       "<div>\n",
       "<style scoped>\n",
       "    .dataframe tbody tr th:only-of-type {\n",
       "        vertical-align: middle;\n",
       "    }\n",
       "\n",
       "    .dataframe tbody tr th {\n",
       "        vertical-align: top;\n",
       "    }\n",
       "\n",
       "    .dataframe thead th {\n",
       "        text-align: right;\n",
       "    }\n",
       "</style>\n",
       "<table border=\"1\" class=\"dataframe\">\n",
       "  <thead>\n",
       "    <tr style=\"text-align: right;\">\n",
       "      <th></th>\n",
       "      <th>group</th>\n",
       "      <th>total_users</th>\n",
       "      <th>conversions</th>\n",
       "      <th>total_users_pct</th>\n",
       "      <th>conversion_pct</th>\n",
       "      <th>conversion_rate</th>\n",
       "    </tr>\n",
       "  </thead>\n",
       "  <tbody>\n",
       "    <tr>\n",
       "      <th>0</th>\n",
       "      <td>control</td>\n",
       "      <td>143293</td>\n",
       "      <td>17220</td>\n",
       "      <td>49.981862</td>\n",
       "      <td>50.284713</td>\n",
       "      <td>12.017335</td>\n",
       "    </tr>\n",
       "    <tr>\n",
       "      <th>1</th>\n",
       "      <td>treatment</td>\n",
       "      <td>143397</td>\n",
       "      <td>17025</td>\n",
       "      <td>50.018138</td>\n",
       "      <td>49.715287</td>\n",
       "      <td>11.872633</td>\n",
       "    </tr>\n",
       "  </tbody>\n",
       "</table>\n",
       "</div>"
      ],
      "text/plain": [
       "       group  total_users  conversions  total_users_pct  conversion_pct  conversion_rate\n",
       "0    control       143293        17220        49.981862       50.284713        12.017335\n",
       "1  treatment       143397        17025        50.018138       49.715287        11.872633"
      ]
     },
     "execution_count": 213,
     "metadata": {},
     "output_type": "execute_result"
    }
   ],
   "source": [
    "df_group = df.groupby('group').agg({'user_id':'nunique',\n",
    "                                    'converted':'sum'}).reset_index()\n",
    "df_group = df_group.rename(columns={'user_id': 'total_users', 'converted': 'conversions'})\n",
    "df_group['total_users_pct']=(df_group['total_users']/len(df.index))*100\n",
    "df_group['conversion_pct']=(df_group['conversions']/df['converted'].sum())*100\n",
    "df_group['conversion_rate']=(df_group['conversions']/df_group['total_users'])*100\n",
    "df_group"
   ]
  },
  {
   "cell_type": "code",
   "execution_count": 214,
   "metadata": {
    "ExecuteTime": {
     "end_time": "2022-06-30T13:44:56.984694Z",
     "start_time": "2022-06-30T13:44:56.968192Z"
    }
   },
   "outputs": [],
   "source": [
    "cvr_control = df_group['conversion_rate'][0]\n",
    "cvr_treatement = df_group['conversion_rate'][1]\n",
    "cvr_diff = cvr_control-cvr_treatement"
   ]
  },
  {
   "cell_type": "code",
   "execution_count": 215,
   "metadata": {
    "ExecuteTime": {
     "end_time": "2022-06-30T13:44:57.864083Z",
     "start_time": "2022-06-30T13:44:57.859082Z"
    }
   },
   "outputs": [
    {
     "name": "stdout",
     "output_type": "stream",
     "text": [
      "The conversion rate for Control group is 12.02%, while the treatment is 11.87% with a difference of 0.14%.\n"
     ]
    }
   ],
   "source": [
    "print(f'The conversion rate for Control group is {cvr_control:.2f}%, while the treatment is {cvr_treatement:.2f}% with a difference of {cvr_diff:.2f}%.')"
   ]
  },
  {
   "cell_type": "markdown",
   "metadata": {},
   "source": [
    "From the data above, we can see that the conversion rate for Control group is bigger by 0.14% compared to the treatment group."
   ]
  },
  {
   "cell_type": "markdown",
   "metadata": {},
   "source": [
    "## Calculating Sample"
   ]
  },
  {
   "cell_type": "markdown",
   "metadata": {},
   "source": [
    "First, we must know the ideal sample size for us to perform the statistical testing through power analysis."
   ]
  },
  {
   "cell_type": "markdown",
   "metadata": {},
   "source": [
    "$$\\text{Number of Samples per Group (n)}=\\frac{2x(Z_{(1-\\alpha)/2}+Z_\\beta)^2x\\sigma^2}{\\Delta^2}$$"
   ]
  },
  {
   "cell_type": "markdown",
   "metadata": {},
   "source": [
    "Where:\n",
    "- $\\Delta$ = size of difference, minimal effect of interest\n",
    "- $\\alpha$ = Significance level. In this test, we will use 0.05.\n",
    "- $\\beta$ = Power, probability of detecting significant result. In this test, we will use 80%.\n",
    "- $\\sigma$ = Standard deviation of the data\n",
    "- $Z_p$ = points on normal distribution to give required power and significance."
   ]
  },
  {
   "cell_type": "code",
   "execution_count": 216,
   "metadata": {
    "ExecuteTime": {
     "end_time": "2022-06-30T13:44:59.255601Z",
     "start_time": "2022-06-30T13:44:59.240599Z"
    }
   },
   "outputs": [
    {
     "name": "stdout",
     "output_type": "stream",
     "text": [
      "The required sample size for the statistical testing is 4720.\n"
     ]
    }
   ],
   "source": [
    "# Calculating effect size based on our expected rates\n",
    "effect_size = sms.proportion_effectsize(0.13, 0.15)    \n",
    "\n",
    "# Calculating sample size required based on alpha=0.05 and power=0.8\n",
    "required_n = sms.NormalIndPower().solve_power(effect_size, \n",
    "                                              power=0.8, \n",
    "                                              alpha=0.05, \n",
    "                                              ratio=1)\n",
    "# Rounding up to next whole number\n",
    "required_n = ceil(required_n)                                                 \n",
    "\n",
    "print(f'The required sample size for the statistical testing is {required_n}.')"
   ]
  },
  {
   "cell_type": "markdown",
   "metadata": {},
   "source": [
    "## Sampling the Dataset"
   ]
  },
  {
   "cell_type": "markdown",
   "metadata": {},
   "source": [
    "We have calculated that we need 4720 observations for each group for this statistical testing. Now, we need to sample our dataste based on the required sample size."
   ]
  },
  {
   "cell_type": "code",
   "execution_count": 225,
   "metadata": {
    "ExecuteTime": {
     "end_time": "2022-06-30T13:45:33.528772Z",
     "start_time": "2022-06-30T13:45:33.481605Z"
    }
   },
   "outputs": [],
   "source": [
    "control_sample = df[df['group'] == 'control'].sample(n=required_n, random_state=22)\n",
    "treatment_sample = df[df['group'] == 'treatment'].sample(n=required_n, random_state=22)\n",
    "\n",
    "ab_test_df = pd.concat([control_sample, treatment_sample], axis=0)\n",
    "ab_test_df.reset_index(drop=True, inplace=True)"
   ]
  },
  {
   "cell_type": "code",
   "execution_count": 226,
   "metadata": {
    "ExecuteTime": {
     "end_time": "2022-06-30T13:45:34.008520Z",
     "start_time": "2022-06-30T13:45:33.996018Z"
    }
   },
   "outputs": [
    {
     "data": {
      "text/html": [
       "<div>\n",
       "<style scoped>\n",
       "    .dataframe tbody tr th:only-of-type {\n",
       "        vertical-align: middle;\n",
       "    }\n",
       "\n",
       "    .dataframe tbody tr th {\n",
       "        vertical-align: top;\n",
       "    }\n",
       "\n",
       "    .dataframe thead th {\n",
       "        text-align: right;\n",
       "    }\n",
       "</style>\n",
       "<table border=\"1\" class=\"dataframe\">\n",
       "  <thead>\n",
       "    <tr style=\"text-align: right;\">\n",
       "      <th></th>\n",
       "      <th>user_id</th>\n",
       "      <th>timestamp</th>\n",
       "      <th>group</th>\n",
       "      <th>landing_page</th>\n",
       "      <th>converted</th>\n",
       "    </tr>\n",
       "  </thead>\n",
       "  <tbody>\n",
       "    <tr>\n",
       "      <th>0</th>\n",
       "      <td>763854</td>\n",
       "      <td>2017-01-21 03:43:17.188315</td>\n",
       "      <td>control</td>\n",
       "      <td>old_page</td>\n",
       "      <td>0</td>\n",
       "    </tr>\n",
       "    <tr>\n",
       "      <th>1</th>\n",
       "      <td>690555</td>\n",
       "      <td>2017-01-18 06:38:13.079449</td>\n",
       "      <td>control</td>\n",
       "      <td>old_page</td>\n",
       "      <td>0</td>\n",
       "    </tr>\n",
       "    <tr>\n",
       "      <th>2</th>\n",
       "      <td>861520</td>\n",
       "      <td>2017-01-06 21:13:40.044766</td>\n",
       "      <td>control</td>\n",
       "      <td>old_page</td>\n",
       "      <td>0</td>\n",
       "    </tr>\n",
       "    <tr>\n",
       "      <th>3</th>\n",
       "      <td>630778</td>\n",
       "      <td>2017-01-05 16:42:36.995204</td>\n",
       "      <td>control</td>\n",
       "      <td>old_page</td>\n",
       "      <td>0</td>\n",
       "    </tr>\n",
       "    <tr>\n",
       "      <th>4</th>\n",
       "      <td>656634</td>\n",
       "      <td>2017-01-04 15:31:21.676130</td>\n",
       "      <td>control</td>\n",
       "      <td>old_page</td>\n",
       "      <td>0</td>\n",
       "    </tr>\n",
       "    <tr>\n",
       "      <th>...</th>\n",
       "      <td>...</td>\n",
       "      <td>...</td>\n",
       "      <td>...</td>\n",
       "      <td>...</td>\n",
       "      <td>...</td>\n",
       "    </tr>\n",
       "    <tr>\n",
       "      <th>9435</th>\n",
       "      <td>908512</td>\n",
       "      <td>2017-01-14 22:02:29.922674</td>\n",
       "      <td>treatment</td>\n",
       "      <td>new_page</td>\n",
       "      <td>0</td>\n",
       "    </tr>\n",
       "    <tr>\n",
       "      <th>9436</th>\n",
       "      <td>873211</td>\n",
       "      <td>2017-01-05 00:57:16.167151</td>\n",
       "      <td>treatment</td>\n",
       "      <td>new_page</td>\n",
       "      <td>0</td>\n",
       "    </tr>\n",
       "    <tr>\n",
       "      <th>9437</th>\n",
       "      <td>631276</td>\n",
       "      <td>2017-01-20 18:56:58.167809</td>\n",
       "      <td>treatment</td>\n",
       "      <td>new_page</td>\n",
       "      <td>0</td>\n",
       "    </tr>\n",
       "    <tr>\n",
       "      <th>9438</th>\n",
       "      <td>662301</td>\n",
       "      <td>2017-01-03 08:10:57.768806</td>\n",
       "      <td>treatment</td>\n",
       "      <td>new_page</td>\n",
       "      <td>0</td>\n",
       "    </tr>\n",
       "    <tr>\n",
       "      <th>9439</th>\n",
       "      <td>944623</td>\n",
       "      <td>2017-01-19 10:56:01.648653</td>\n",
       "      <td>treatment</td>\n",
       "      <td>new_page</td>\n",
       "      <td>1</td>\n",
       "    </tr>\n",
       "  </tbody>\n",
       "</table>\n",
       "<p>9440 rows × 5 columns</p>\n",
       "</div>"
      ],
      "text/plain": [
       "      user_id                   timestamp      group landing_page  converted\n",
       "0      763854  2017-01-21 03:43:17.188315    control     old_page          0\n",
       "1      690555  2017-01-18 06:38:13.079449    control     old_page          0\n",
       "2      861520  2017-01-06 21:13:40.044766    control     old_page          0\n",
       "3      630778  2017-01-05 16:42:36.995204    control     old_page          0\n",
       "4      656634  2017-01-04 15:31:21.676130    control     old_page          0\n",
       "...       ...                         ...        ...          ...        ...\n",
       "9435   908512  2017-01-14 22:02:29.922674  treatment     new_page          0\n",
       "9436   873211  2017-01-05 00:57:16.167151  treatment     new_page          0\n",
       "9437   631276  2017-01-20 18:56:58.167809  treatment     new_page          0\n",
       "9438   662301  2017-01-03 08:10:57.768806  treatment     new_page          0\n",
       "9439   944623  2017-01-19 10:56:01.648653  treatment     new_page          1\n",
       "\n",
       "[9440 rows x 5 columns]"
      ]
     },
     "execution_count": 226,
     "metadata": {},
     "output_type": "execute_result"
    }
   ],
   "source": [
    "ab_test_df"
   ]
  },
  {
   "cell_type": "code",
   "execution_count": 227,
   "metadata": {
    "ExecuteTime": {
     "end_time": "2022-06-30T13:45:34.473022Z",
     "start_time": "2022-06-30T13:45:34.454519Z"
    }
   },
   "outputs": [
    {
     "name": "stdout",
     "output_type": "stream",
     "text": [
      "<class 'pandas.core.frame.DataFrame'>\n",
      "RangeIndex: 9440 entries, 0 to 9439\n",
      "Data columns (total 5 columns):\n",
      " #   Column        Non-Null Count  Dtype \n",
      "---  ------        --------------  ----- \n",
      " 0   user_id       9440 non-null   int64 \n",
      " 1   timestamp     9440 non-null   object\n",
      " 2   group         9440 non-null   object\n",
      " 3   landing_page  9440 non-null   object\n",
      " 4   converted     9440 non-null   int64 \n",
      "dtypes: int64(2), object(3)\n",
      "memory usage: 368.9+ KB\n"
     ]
    }
   ],
   "source": [
    "ab_test_df.info()"
   ]
  },
  {
   "cell_type": "code",
   "execution_count": 228,
   "metadata": {
    "ExecuteTime": {
     "end_time": "2022-06-30T13:45:34.937534Z",
     "start_time": "2022-06-30T13:45:34.922032Z"
    }
   },
   "outputs": [
    {
     "data": {
      "text/plain": [
       "control      4720\n",
       "treatment    4720\n",
       "Name: group, dtype: int64"
      ]
     },
     "execution_count": 228,
     "metadata": {},
     "output_type": "execute_result"
    }
   ],
   "source": [
    "ab_test_df['group'].value_counts()"
   ]
  },
  {
   "cell_type": "code",
   "execution_count": 229,
   "metadata": {
    "ExecuteTime": {
     "end_time": "2022-06-30T13:45:35.617997Z",
     "start_time": "2022-06-30T13:45:35.605995Z"
    }
   },
   "outputs": [
    {
     "data": {
      "text/html": [
       "<div>\n",
       "<style scoped>\n",
       "    .dataframe tbody tr th:only-of-type {\n",
       "        vertical-align: middle;\n",
       "    }\n",
       "\n",
       "    .dataframe tbody tr th {\n",
       "        vertical-align: top;\n",
       "    }\n",
       "\n",
       "    .dataframe thead th {\n",
       "        text-align: right;\n",
       "    }\n",
       "</style>\n",
       "<table border=\"1\" class=\"dataframe\">\n",
       "  <thead>\n",
       "    <tr style=\"text-align: right;\">\n",
       "      <th></th>\n",
       "      <th>group</th>\n",
       "      <th>total_users</th>\n",
       "      <th>conversions</th>\n",
       "      <th>total_users_pct</th>\n",
       "      <th>conversion_pct</th>\n",
       "      <th>conversion_rate</th>\n",
       "    </tr>\n",
       "  </thead>\n",
       "  <tbody>\n",
       "    <tr>\n",
       "      <th>0</th>\n",
       "      <td>control</td>\n",
       "      <td>4720</td>\n",
       "      <td>582</td>\n",
       "      <td>50.0</td>\n",
       "      <td>49.531915</td>\n",
       "      <td>0.406161</td>\n",
       "    </tr>\n",
       "    <tr>\n",
       "      <th>1</th>\n",
       "      <td>treatment</td>\n",
       "      <td>4720</td>\n",
       "      <td>593</td>\n",
       "      <td>50.0</td>\n",
       "      <td>50.468085</td>\n",
       "      <td>0.413537</td>\n",
       "    </tr>\n",
       "  </tbody>\n",
       "</table>\n",
       "</div>"
      ],
      "text/plain": [
       "       group  total_users  conversions  total_users_pct  conversion_pct  conversion_rate\n",
       "0    control         4720          582             50.0       49.531915         0.406161\n",
       "1  treatment         4720          593             50.0       50.468085         0.413537"
      ]
     },
     "execution_count": 229,
     "metadata": {},
     "output_type": "execute_result"
    }
   ],
   "source": [
    "df_group_sample = ab_test_df.groupby('group').agg({'user_id':'nunique',\n",
    "                                                   'converted':'sum'}).reset_index()\n",
    "df_group_sample = df_group_sample.rename(columns={'user_id': 'total_users', 'converted': 'conversions'})\n",
    "df_group_sample['total_users_pct']=(df_group_sample['total_users']/len(ab_test_df.index))*100\n",
    "df_group_sample['conversion_pct']=(df_group_sample['conversions']/ab_test_df['converted'].sum())*100\n",
    "df_group_sample['conversion_rate']=(df_group_sample['conversions']/df_group['total_users'])*100\n",
    "df_group_sample"
   ]
  },
  {
   "cell_type": "markdown",
   "metadata": {},
   "source": [
    "## Basic Statistical Check"
   ]
  },
  {
   "cell_type": "markdown",
   "metadata": {},
   "source": [
    "Now, let's check the basic statistic, such as the standard deviation and standard error of each sample."
   ]
  },
  {
   "cell_type": "code",
   "execution_count": 230,
   "metadata": {
    "ExecuteTime": {
     "end_time": "2022-06-30T13:45:37.824933Z",
     "start_time": "2022-06-30T13:45:37.812431Z"
    }
   },
   "outputs": [
    {
     "data": {
      "text/html": [
       "<div>\n",
       "<style scoped>\n",
       "    .dataframe tbody tr th:only-of-type {\n",
       "        vertical-align: middle;\n",
       "    }\n",
       "\n",
       "    .dataframe tbody tr th {\n",
       "        vertical-align: top;\n",
       "    }\n",
       "\n",
       "    .dataframe thead th {\n",
       "        text-align: right;\n",
       "    }\n",
       "</style>\n",
       "<table border=\"1\" class=\"dataframe\">\n",
       "  <thead>\n",
       "    <tr style=\"text-align: right;\">\n",
       "      <th></th>\n",
       "      <th>conversion_rate</th>\n",
       "      <th>std_deviation</th>\n",
       "      <th>std_error</th>\n",
       "    </tr>\n",
       "    <tr>\n",
       "      <th>group</th>\n",
       "      <th></th>\n",
       "      <th></th>\n",
       "      <th></th>\n",
       "    </tr>\n",
       "  </thead>\n",
       "  <tbody>\n",
       "    <tr>\n",
       "      <th>control</th>\n",
       "      <td>0.123305</td>\n",
       "      <td>0.328787</td>\n",
       "      <td>0.004786</td>\n",
       "    </tr>\n",
       "    <tr>\n",
       "      <th>treatment</th>\n",
       "      <td>0.125636</td>\n",
       "      <td>0.331438</td>\n",
       "      <td>0.004824</td>\n",
       "    </tr>\n",
       "  </tbody>\n",
       "</table>\n",
       "</div>"
      ],
      "text/plain": [
       "           conversion_rate  std_deviation  std_error\n",
       "group                                               \n",
       "control           0.123305       0.328787   0.004786\n",
       "treatment         0.125636       0.331438   0.004824"
      ]
     },
     "execution_count": 230,
     "metadata": {},
     "output_type": "execute_result"
    }
   ],
   "source": [
    "df_stats = ab_test_df.groupby('group')['converted']\n",
    "\n",
    "# Std. deviation of the sample\n",
    "std_p = lambda x: np.std(x, ddof=0)  \n",
    "# Std. error of the proportion (std / sqrt(n))\n",
    "se_p = lambda x: scs.sem(x, ddof=0)\n",
    "\n",
    "df_stats = df_stats.agg([np.mean, std_p, se_p])\n",
    "df_stats.columns = ['conversion_rate', 'std_deviation', 'std_error']\n",
    "\n",
    "df_stats"
   ]
  },
  {
   "cell_type": "code",
   "execution_count": 231,
   "metadata": {
    "ExecuteTime": {
     "end_time": "2022-06-30T13:45:38.442985Z",
     "start_time": "2022-06-30T13:45:38.433483Z"
    }
   },
   "outputs": [],
   "source": [
    "cvr_control = (df_stats['conversion_rate'][0])*100\n",
    "cvr_treatement = (df_stats['conversion_rate'][1])*100\n",
    "cvr_diff = cvr_control-cvr_treatement"
   ]
  },
  {
   "cell_type": "code",
   "execution_count": 232,
   "metadata": {
    "ExecuteTime": {
     "end_time": "2022-06-30T13:45:38.877024Z",
     "start_time": "2022-06-30T13:45:38.864522Z"
    }
   },
   "outputs": [
    {
     "name": "stdout",
     "output_type": "stream",
     "text": [
      "The conversion rate for Control group is 12.33%, while the treatment is 12.56% with a difference of -0.23%.\n"
     ]
    }
   ],
   "source": [
    "print(f'The conversion rate for Control group is {cvr_control:.2f}%, while the treatment is {cvr_treatement:.2f}% with a difference of {cvr_diff:.2f}%.')"
   ]
  },
  {
   "cell_type": "markdown",
   "metadata": {},
   "source": [
    "In this sample, the treatment has a 1.36% higher conversion rate compared to the control group."
   ]
  },
  {
   "cell_type": "markdown",
   "metadata": {},
   "source": [
    "## Hypothesis Testing"
   ]
  },
  {
   "cell_type": "markdown",
   "metadata": {},
   "source": [
    "Now, we move on to see if the difference in conversion rate is statsitically significant by performing hypothesis testing."
   ]
  },
  {
   "cell_type": "code",
   "execution_count": 233,
   "metadata": {
    "ExecuteTime": {
     "end_time": "2022-06-30T13:45:40.543766Z",
     "start_time": "2022-06-30T13:45:40.529764Z"
    }
   },
   "outputs": [
    {
     "name": "stdout",
     "output_type": "stream",
     "text": [
      "z statistic: -0.34\n",
      "p-value: 0.732\n",
      "confidence interval 95% for control group: [11.39%, 13.27%]\n",
      "confidence interval 95% for treatment group: [11.62%, 13.51%]\n"
     ]
    }
   ],
   "source": [
    "from statsmodels.stats.proportion import proportions_ztest, proportion_confint\n",
    "\n",
    "control_results = ab_test_df[ab_test_df['group'] == 'control']['converted']\n",
    "treatment_results = ab_test_df[ab_test_df['group'] == 'treatment']['converted']\n",
    "n_con = control_results.count()\n",
    "n_treat = treatment_results.count()\n",
    "successes = [control_results.sum(), treatment_results.sum()]\n",
    "nobs = [n_con, n_treat]\n",
    "\n",
    "z_stat, pval = proportions_ztest(successes, nobs=nobs)\n",
    "(lower_con, lower_treat), (upper_con, upper_treat) = proportion_confint(successes, nobs=nobs, alpha=0.05)\n",
    "\n",
    "print(f'z statistic: {z_stat:.2f}')\n",
    "print(f'p-value: {pval:.3f}')\n",
    "print(f'confidence interval 95% for control group: [{lower_con*100:.2f}%, {upper_con*100:.2f}%]')\n",
    "print(f'confidence interval 95% for treatment group: [{lower_treat*100:.2f}%, {upper_treat*100:.2f}%]')"
   ]
  },
  {
   "cell_type": "markdown",
   "metadata": {},
   "source": [
    "## Conclusion"
   ]
  },
  {
   "cell_type": "code",
   "execution_count": 234,
   "metadata": {
    "ExecuteTime": {
     "end_time": "2022-06-30T13:45:43.521185Z",
     "start_time": "2022-06-30T13:45:43.512183Z"
    }
   },
   "outputs": [],
   "source": [
    "def print_conclusion(pval, alpha=0.05):\n",
    "    if pval>alpha:\n",
    "        print(f'Since our p-value={pval:.3f} is bigger than alpha={alpha:.3f}, then we must accept the null hypothesis.')\n",
    "    else:\n",
    "        print(f'Since our p-value={pval:.3f} is smaller than alpha={alpha:.3f}, then we can reject the null hypothesis.')"
   ]
  },
  {
   "cell_type": "code",
   "execution_count": 235,
   "metadata": {
    "ExecuteTime": {
     "end_time": "2022-06-30T13:45:43.984959Z",
     "start_time": "2022-06-30T13:45:43.972957Z"
    }
   },
   "outputs": [
    {
     "name": "stdout",
     "output_type": "stream",
     "text": [
      "Since our p-value=0.732 is bigger than alpha=0.050, then we must accept the null hypothesis.\n"
     ]
    }
   ],
   "source": [
    "print_conclusion(pval, alpha=0.05)"
   ]
  },
  {
   "cell_type": "code",
   "execution_count": 236,
   "metadata": {
    "ExecuteTime": {
     "end_time": "2022-06-30T13:45:46.113917Z",
     "start_time": "2022-06-30T13:45:46.102915Z"
    }
   },
   "outputs": [],
   "source": [
    "pct_diff = ((cvr_treatement-cvr_control)/cvr_control)*100"
   ]
  },
  {
   "cell_type": "code",
   "execution_count": 237,
   "metadata": {
    "ExecuteTime": {
     "end_time": "2022-06-30T13:45:46.993361Z",
     "start_time": "2022-06-30T13:45:46.980858Z"
    }
   },
   "outputs": [
    {
     "name": "stdout",
     "output_type": "stream",
     "text": [
      "The Treatment group has conversion rate of 1.89% higher than the Control group.\n"
     ]
    }
   ],
   "source": [
    "print(f'The Treatment group has conversion rate of {pct_diff:.2f}% higher than the Control group.')"
   ]
  },
  {
   "cell_type": "markdown",
   "metadata": {},
   "source": [
    "## Visualizations"
   ]
  },
  {
   "cell_type": "markdown",
   "metadata": {},
   "source": [
    "### Required Functions"
   ]
  },
  {
   "cell_type": "markdown",
   "metadata": {},
   "source": [
    "#### Create Table"
   ]
  },
  {
   "cell_type": "code",
   "execution_count": 238,
   "metadata": {
    "ExecuteTime": {
     "end_time": "2022-06-30T13:45:49.848018Z",
     "start_time": "2022-06-30T13:45:49.838016Z"
    }
   },
   "outputs": [],
   "source": [
    "def create_plotly_table(data):\n",
    "    fig = go.Figure(\n",
    "        data=[\n",
    "            go.Table(\n",
    "                header=dict(\n",
    "                    values=list(data.keys()),\n",
    "                    line_color=\"white\",\n",
    "                    fill_color=\"white\",\n",
    "                    font=dict(size=12, color=\"black\"),\n",
    "                    align=\"left\",\n",
    "                ),\n",
    "                cells=dict(\n",
    "                    values=[data.get(k) for k in data.keys()],\n",
    "                    align=\"left\",\n",
    "                    fill=dict(color=[[\"#F9F9F9\", \"#FFFFFF\"] * 5]),\n",
    "                ),\n",
    "            )\n",
    "        ]\n",
    "    )\n",
    "\n",
    "    fig.update_layout(\n",
    "        autosize=False,\n",
    "        height=150,\n",
    "        margin=dict(\n",
    "            l=20,\n",
    "            r=20,\n",
    "            b=10,\n",
    "            t=30,\n",
    "        ),\n",
    "    )\n",
    "\n",
    "    fig.show()"
   ]
  },
  {
   "cell_type": "markdown",
   "metadata": {},
   "source": [
    "#### Get Statistics"
   ]
  },
  {
   "cell_type": "code",
   "execution_count": 239,
   "metadata": {
    "ExecuteTime": {
     "end_time": "2022-06-30T13:45:50.359235Z",
     "start_time": "2022-06-30T13:45:50.341232Z"
    }
   },
   "outputs": [],
   "source": [
    "def get_stats(visitors_A, visitors_B, conversions_A, conversions_B):\n",
    "    control_cr = conversions_A / visitors_A\n",
    "    variant_cr = conversions_B / visitors_B\n",
    "    relative_difference = variant_cr / control_cr - 1\n",
    "    control_se = (control_cr * (1 - control_cr) / visitors_A) ** 0.5\n",
    "    variant_se = (variant_cr * (1 - variant_cr) / visitors_B) ** 0.5\n",
    "    se_difference = (control_se ** 2 + variant_se ** 2) ** 0.5\n",
    "    return control_cr, variant_cr, relative_difference, control_se, variant_se, se_difference\n",
    "    "
   ]
  },
  {
   "cell_type": "markdown",
   "metadata": {},
   "source": [
    "#### Get Power"
   ]
  },
  {
   "cell_type": "code",
   "execution_count": 240,
   "metadata": {
    "ExecuteTime": {
     "end_time": "2022-06-30T13:45:50.993303Z",
     "start_time": "2022-06-30T13:45:50.984301Z"
    }
   },
   "outputs": [],
   "source": [
    "def get_power(visitors_A, visitors_B, conversions_A, conversions_B, alpha=0.05, two_tails=True):\n",
    "    \"\"\"Returns observed power from test results.\"\"\"\n",
    "    \n",
    "    control_cr, variant_cr, relative_difference, control_se, variant_se, se_difference = get_stats(visitors_A, visitors_B, conversions_A, conversions_B)\n",
    "    \n",
    "    n = visitors_A + visitors_B\n",
    "    \n",
    "    if two_tails:\n",
    "        qu = scs.norm.ppf(1 - alpha / 2)\n",
    "    else:\n",
    "        qu = scs.norm.ppf(1 - alpha)\n",
    "\n",
    "    diff = abs(variant_cr - control_cr)\n",
    "    avg_cr = (control_cr + variant_cr) / 2\n",
    "\n",
    "    control_var = control_cr * (1 - control_cr)\n",
    "    variant_var = variant_cr * (1 - variant_cr)\n",
    "    avg_var = avg_cr * (1 - avg_cr)\n",
    "\n",
    "    power_lower = scs.norm.cdf(\n",
    "        (n ** 0.5 * diff - qu * (2 * avg_var) ** 0.5)\n",
    "        / (control_var + variant_var) ** 0.5\n",
    "        )\n",
    "    power_upper = 1 - scs.norm.cdf(\n",
    "        (n ** 0.5 * diff + qu * (2 * avg_var) ** 0.5)\n",
    "        / (control_var + variant_var) ** 0.5\n",
    "        )\n",
    "\n",
    "    power = power_lower + power_upper\n",
    "\n",
    "    return power"
   ]
  },
  {
   "cell_type": "markdown",
   "metadata": {},
   "source": [
    "#### Get Z Value"
   ]
  },
  {
   "cell_type": "code",
   "execution_count": 241,
   "metadata": {
    "ExecuteTime": {
     "end_time": "2022-06-30T13:45:51.626859Z",
     "start_time": "2022-06-30T13:45:51.619358Z"
    }
   },
   "outputs": [],
   "source": [
    "def get_z_value(alpha=0.05, two_tails=True):\n",
    "    z_dist = scs.norm()\n",
    "    if two_tails:\n",
    "        alpha = alpha / 2\n",
    "        area = 1 - alpha\n",
    "    else:\n",
    "        area = 1 - alpha\n",
    "\n",
    "    z = z_dist.ppf(area)\n",
    "    return z"
   ]
  },
  {
   "cell_type": "markdown",
   "metadata": {},
   "source": [
    "#### Get Tail Direction"
   ]
  },
  {
   "cell_type": "code",
   "execution_count": 242,
   "metadata": {
    "ExecuteTime": {
     "end_time": "2022-06-30T13:45:52.245980Z",
     "start_time": "2022-06-30T13:45:52.228477Z"
    }
   },
   "outputs": [],
   "source": [
    "def get_tail_directions(relative_difference, two_tails=True):\n",
    "    if two_tails is False:\n",
    "            if relative_difference < 0:\n",
    "                tail_direction = \"right\"\n",
    "            else:\n",
    "                tail_direction = \"left\"\n",
    "    else:\n",
    "        tail_direction = \"two\"\n",
    "    return tail_direction"
   ]
  },
  {
   "cell_type": "markdown",
   "metadata": {},
   "source": [
    "#### Z_Test"
   ]
  },
  {
   "cell_type": "code",
   "execution_count": 243,
   "metadata": {
    "ExecuteTime": {
     "end_time": "2022-06-30T13:45:52.926885Z",
     "start_time": "2022-06-30T13:45:52.918384Z"
    }
   },
   "outputs": [],
   "source": [
    "def z_test(visitors_A,visitors_B,conversions_A,conversions_B,alpha,two_tails=True):\n",
    "        \"\"\"Run a Z-test with your data, returning the Z-score and p-value.\n",
    "        Returns\n",
    "        -------\n",
    "        z_score : float\n",
    "            Number of standard deviations between the mean of the control\n",
    "            conversion rate distribution and the variant conversion rate\n",
    "        p_value : float\n",
    "            Probability of obtaining test results at least as extreme as the\n",
    "            observed results, under the conditions of the null hypothesis\n",
    "        \"\"\"\n",
    "        # get stats, z, power, tail direction\n",
    "        control_cr, variant_cr, relative_difference, control_se, variant_se, se_difference = get_stats(visitors_A, visitors_B, conversions_A, conversions_B)\n",
    "        power = get_power(visitors_A, visitors_B, conversions_A, conversions_B)\n",
    "        tail_direction = get_tail_directions(relative_difference, two_tails)\n",
    "        \n",
    "        combined_cr = (conversions_A + conversions_B) / (\n",
    "            visitors_A + visitors_B\n",
    "        )\n",
    "        combined_se = (\n",
    "            combined_cr\n",
    "            * (1 - combined_cr)\n",
    "            * (1 / visitors_A + 1 / visitors_B)\n",
    "        ) ** 0.5\n",
    "\n",
    "        # z-score\n",
    "        z_score = (variant_cr - control_cr) / combined_se\n",
    "\n",
    "        # Calculate the p-value dependent on one or two tails\n",
    "        if tail_direction == \"left\":\n",
    "            p_value = scs.norm.cdf(-z_score)\n",
    "        elif tail_direction == \"right\":\n",
    "            p_value = scs.norm.cdf(z_score)\n",
    "        else:\n",
    "            p_value = 2 * scs.norm.cdf(-abs(z_score))\n",
    "\n",
    "        return z_score, p_value"
   ]
  },
  {
   "cell_type": "markdown",
   "metadata": {},
   "source": [
    "#### Z-test Visualizations"
   ]
  },
  {
   "cell_type": "code",
   "execution_count": 244,
   "metadata": {
    "ExecuteTime": {
     "end_time": "2022-06-30T13:45:53.821761Z",
     "start_time": "2022-06-30T13:45:53.802757Z"
    }
   },
   "outputs": [],
   "source": [
    "def plot_test_visualisation(visitors_A,visitors_B,conversions_A,conversions_B,alpha,two_tails=True):\n",
    "        \"\"\"Plots a visualisation of the Z test and its results.\"\"\"\n",
    "        \n",
    "        # Set fonts\n",
    "        reg_text = {\"size\": \"12\"}\n",
    "        text_title = {\"size\": \"14\", \"weight\": \"bold\"}\n",
    "        text_bold = {\"size\": \"12\", \"weight\": \"bold\"}\n",
    "        text_small = {\"size\": \"10\"}\n",
    "        \n",
    "        # get stats, z, power, tail direction\n",
    "        control_cr, variant_cr, relative_difference, control_se, variant_se, se_difference = get_stats(visitors_A, visitors_B, conversions_A, conversions_B)\n",
    "        z = get_z_value(alpha, two_tails)\n",
    "        power = get_power(visitors_A, visitors_B, conversions_A, conversions_B)\n",
    "        tail_direction = get_tail_directions(relative_difference, two_tails)\n",
    "\n",
    "        fig, ax = plt.subplots(figsize=(10, 5), dpi=150)\n",
    "        xA = np.linspace(0 - 4 * se_difference, 0 + 4 * se_difference, 1000)\n",
    "        yA = scs.norm(0, se_difference).pdf(xA)\n",
    "        ax.plot(xA, yA, c=\"#181716\")\n",
    "\n",
    "        diff = variant_cr - control_cr\n",
    "\n",
    "        ax.axvline(\n",
    "            x=diff, ymax=ax.get_ylim()[1], c=\"tab:orange\", alpha=0.5, linestyle=\"--\"\n",
    "        )\n",
    "        ax.text(\n",
    "            ax.get_xlim()[0] + (ax.get_xlim()[1] - ax.get_xlim()[0]) * 0.8,\n",
    "            ax.get_ylim()[1] * 0.8,\n",
    "            \"Observed\\ndifference: {:.2%}\".format(relative_difference),\n",
    "            color=\"tab:orange\",\n",
    "            **reg_text,\n",
    "        )\n",
    "\n",
    "        if tail_direction == \"left\":\n",
    "            ax.fill_between(\n",
    "                xA,\n",
    "                0,\n",
    "                yA,\n",
    "                where=(xA > 0 + se_difference * z),\n",
    "                color=\"green\",\n",
    "                alpha=0.2,\n",
    "            )\n",
    "        elif tail_direction == \"right\":\n",
    "            ax.fill_between(\n",
    "                xA,\n",
    "                0,\n",
    "                yA,\n",
    "                where=(xA < 0 - se_difference * z),\n",
    "                color=\"green\",\n",
    "                alpha=0.2,\n",
    "            )\n",
    "        else:\n",
    "            ax.fill_between(\n",
    "                xA,\n",
    "                0,\n",
    "                yA,\n",
    "                where=(xA > 0 + se_difference * z)\n",
    "                | (xA < 0 - se_difference * z),\n",
    "                color=\"green\",\n",
    "                alpha=0.2,\n",
    "            )\n",
    "\n",
    "        ax.get_xaxis().set_major_formatter(\n",
    "            mtick.FuncFormatter(lambda x, p: format(x / control_cr, \".0%\"))\n",
    "        )\n",
    "\n",
    "        plt.xlabel(\"Relative difference of the means\")\n",
    "\n",
    "        ax.text(\n",
    "            ax.get_xlim()[0],\n",
    "            ax.get_ylim()[1] * 1.25,\n",
    "            \"Z-test visualisation\",\n",
    "            **text_title,\n",
    "        )\n",
    "\n",
    "        ax.text(\n",
    "            ax.get_xlim()[0],\n",
    "            ax.get_ylim()[1] * 1.18,\n",
    "            \"Displays the expected distribution of the difference between the\"\n",
    "            \" means under the null hypothesis.\",\n",
    "            **reg_text,\n",
    "        )\n",
    "\n",
    "        sns.despine(left=True)\n",
    "        ax.get_yaxis().set_visible(False)\n",
    "        fig.tight_layout()\n",
    "\n",
    "        plt.show()"
   ]
  },
  {
   "cell_type": "markdown",
   "metadata": {},
   "source": [
    "#### Power Plot"
   ]
  },
  {
   "cell_type": "code",
   "execution_count": 245,
   "metadata": {
    "ExecuteTime": {
     "end_time": "2022-06-30T13:45:54.610515Z",
     "start_time": "2022-06-30T13:45:54.590011Z"
    }
   },
   "outputs": [],
   "source": [
    "def plot_power(visitors_A,visitors_B,conversions_A,conversions_B,alpha,two_tails=True):\n",
    "        \"\"\"Returns a plot figure visualising Power based on the\n",
    "        results of an AB test.\"\"\"\n",
    "        \n",
    "        # Set fonts\n",
    "        reg_text = {\"size\": \"12\"}\n",
    "        text_title = {\"size\": \"14\", \"weight\": \"bold\"}\n",
    "        text_bold = {\"size\": \"12\", \"weight\": \"bold\"}\n",
    "        text_small = {\"size\": \"10\"}\n",
    "        \n",
    "        # get stats, z, power, tail direction\n",
    "        control_cr, variant_cr, relative_difference, control_se, variant_se, se_difference = get_stats(visitors_A, visitors_B, conversions_A, conversions_B)\n",
    "        z = get_z_value(alpha, two_tails)\n",
    "        power = get_power(visitors_A, visitors_B, conversions_A, conversions_B)\n",
    "        tail_direction = get_tail_directions(relative_difference, two_tails)\n",
    "        \n",
    "        fig, ax = plt.subplots(figsize=(10, 5), dpi=150)\n",
    "        \n",
    "        # Plot the distribution of A\n",
    "        xA = np.linspace(\n",
    "            control_cr - 4 * control_se,\n",
    "            control_cr + 4 * control_se,\n",
    "            1000,\n",
    "        )\n",
    "        yA = scs.norm(control_cr, control_se).pdf(xA)\n",
    "        ax.plot(xA, yA, label=\"A\")\n",
    "\n",
    "        # Plot the distribution of B\n",
    "        xB = np.linspace(\n",
    "            variant_cr - 4 * variant_se,\n",
    "            variant_cr + 4 * variant_se,\n",
    "            1000,\n",
    "        )\n",
    "        yB = scs.norm(variant_cr, variant_se).pdf(xB)\n",
    "        ax.plot(xB, yB, label=\"B\")\n",
    "\n",
    "        # Label A at its apex\n",
    "        ax.text(\n",
    "            control_cr,\n",
    "            max(yA) * 1.03,\n",
    "            \"A\",\n",
    "            color=\"tab:blue\",\n",
    "            horizontalalignment=\"center\",\n",
    "            **text_bold,\n",
    "        )\n",
    "\n",
    "        # Label B at its apex\n",
    "        ax.text(\n",
    "            variant_cr,\n",
    "            max(yB) * 1.03,\n",
    "            \"B\",\n",
    "            color=\"tab:orange\",\n",
    "            horizontalalignment=\"center\",\n",
    "            **text_bold,\n",
    "        )\n",
    "\n",
    "        # Add critical value lines depending on two vs. one tail and left vs. right\n",
    "        if tail_direction == \"left\":\n",
    "            ax.axvline(\n",
    "                x=control_cr + control_se * z,\n",
    "                c=\"tab:blue\",\n",
    "                alpha=0.5,\n",
    "                linestyle=\"--\",\n",
    "            )\n",
    "            ax.text(\n",
    "                control_cr + control_se * z,\n",
    "                max(yA) * 0.4,\n",
    "                \"Critical value\",\n",
    "                color=\"tab:blue\",\n",
    "                rotation=270,\n",
    "                **text_small,\n",
    "            )\n",
    "        elif tail_direction == \"right\":\n",
    "            ax.axvline(\n",
    "                x=control_cr - control_se * z,\n",
    "                c=\"tab:blue\",\n",
    "                alpha=0.5,\n",
    "                linestyle=\"--\",\n",
    "            )\n",
    "            ax.text(\n",
    "                scontrol_cr - control_se * z,\n",
    "                max(yA) * 0.4,\n",
    "                \"Critical value\",\n",
    "                color=\"tab:blue\",\n",
    "                rotation=270,\n",
    "                **text_small,\n",
    "            )\n",
    "        else:\n",
    "            ax.axvline(\n",
    "                x=control_cr - control_se * z,\n",
    "                c=\"tab:blue\",\n",
    "                alpha=0.5,\n",
    "                linestyle=\"--\",\n",
    "            )\n",
    "            ax.text(\n",
    "                control_cr - control_se * z,\n",
    "                max(yA) * 0.4,\n",
    "                \"Critical value\",\n",
    "                color=\"tab:blue\",\n",
    "                rotation=270,\n",
    "                **text_small,\n",
    "            )\n",
    "\n",
    "            ax.axvline(\n",
    "                x=control_cr + control_se * z,\n",
    "                c=\"tab:blue\",\n",
    "                alpha=0.5,\n",
    "                linestyle=\"--\",\n",
    "            )\n",
    "            ax.text(\n",
    "                control_cr + control_se * z,\n",
    "                max(yA) * 0.4,\n",
    "                \"Critical value\",\n",
    "                color=\"tab:blue\",\n",
    "                rotation=270,\n",
    "                **text_small,\n",
    "            )\n",
    "\n",
    "        # Fill in the power and annotate\n",
    "        if variant_cr > control_cr:\n",
    "            ax.fill_between(\n",
    "                xB,\n",
    "                0,\n",
    "                yB,\n",
    "                where=(xB > control_cr + control_se * z),\n",
    "                color=\"green\",\n",
    "                alpha=0.2,\n",
    "            )\n",
    "        else:\n",
    "            ax.fill_between(\n",
    "                xB,\n",
    "                0,\n",
    "                yB,\n",
    "                where=(xB < control_cr - control_se * z),\n",
    "                color=\"green\",\n",
    "                alpha=0.2,\n",
    "            )\n",
    "\n",
    "        # Display power value on graph\n",
    "        ax.text(\n",
    "            ax.get_xlim()[0] + (ax.get_xlim()[1] - ax.get_xlim()[0]) * 0.8,\n",
    "            ax.get_ylim()[1] * 0.8,\n",
    "            f\"Power: {power:.2%}\",\n",
    "            horizontalalignment=\"left\",\n",
    "            **reg_text,\n",
    "        )\n",
    "\n",
    "        # Title\n",
    "        ax.text(\n",
    "            ax.get_xlim()[0],\n",
    "            ax.get_ylim()[1] * 1.25,\n",
    "            \"Statistical power\",\n",
    "            **text_title,\n",
    "        )\n",
    "\n",
    "        # Subtitle\n",
    "        ax.text(\n",
    "            ax.get_xlim()[0],\n",
    "            ax.get_ylim()[1] * 1.17,\n",
    "            \"Illustrates the likelihood of avoiding a false negative/type II\" \" error\",\n",
    "            **reg_text,\n",
    "        )\n",
    "\n",
    "        ax.xaxis.set_major_formatter(mtick.PercentFormatter(1))\n",
    "        plt.xlabel(\"Converted Proportion\")\n",
    "\n",
    "        sns.despine(left=True)\n",
    "        ax.get_yaxis().set_visible(False)\n",
    "        fig.tight_layout()\n",
    "\n",
    "        plt.show()"
   ]
  },
  {
   "cell_type": "markdown",
   "metadata": {},
   "source": [
    "#### Get Table Data"
   ]
  },
  {
   "cell_type": "code",
   "execution_count": 247,
   "metadata": {
    "ExecuteTime": {
     "end_time": "2022-06-30T13:46:15.253492Z",
     "start_time": "2022-06-30T13:46:15.239990Z"
    }
   },
   "outputs": [],
   "source": [
    "def get_table_data(visitors_A,visitors_B,conversions_A,conversions_B,alpha,two_tails=True):\n",
    "    # Set fonts\n",
    "    reg_text = {\"size\": \"12\"}\n",
    "    text_title = {\"size\": \"14\", \"weight\": \"bold\"}\n",
    "    text_bold = {\"size\": \"12\", \"weight\": \"bold\"}\n",
    "    text_small = {\"size\": \"10\"}\n",
    "        \n",
    "    # get stats, z, power, tail direction\n",
    "    control_cr, variant_cr, relative_difference, control_se, variant_se, se_difference = get_stats(visitors_A, visitors_B, conversions_A, conversions_B)\n",
    "    z = get_z_value(alpha, two_tails)\n",
    "    power = get_power(visitors_A, visitors_B, conversions_A, conversions_B)\n",
    "    tail_direction = get_tail_directions(relative_difference, two_tails)\n",
    "    z_score, p_value = z_test(visitors_A,visitors_B,conversions_A,conversions_B,alpha,two_tails)\n",
    "    \n",
    "    data = {\"<b>Variant</b>\": [\"A\", \"B\"],\n",
    "            \"<b>Visitors</b>\": [f\"{visitors_A:,}\", f\"{visitors_B:,}\"],\n",
    "            \"<b>Conversions</b>\": [conversions_A, conversions_B],\n",
    "            \"<b>Conversion rate</b>\": [f\"{control_cr:.2%}\", f\"{variant_cr:.2%}\"],\n",
    "            \"<b>Uplift</b>\": [\"\", f\"{relative_difference:.2%}\"],\n",
    "            \"<b>Power</b>\": [\"\", f\"{power:.4f}\"],\n",
    "            \"<b>Z-score</b>\": [\"\", f\"{z_score:.4f}\"],\n",
    "            \"<b>P-value</b>\": [\"\", f\"{p_value:.4f}\"],\n",
    "           }\n",
    "    return data"
   ]
  },
  {
   "cell_type": "markdown",
   "metadata": {},
   "source": [
    "#### Get Table for Dashboard"
   ]
  },
  {
   "cell_type": "code",
   "execution_count": 248,
   "metadata": {
    "ExecuteTime": {
     "end_time": "2022-06-30T13:46:16.024370Z",
     "start_time": "2022-06-30T13:46:16.014369Z"
    }
   },
   "outputs": [],
   "source": [
    "def get_table_dash(visitors_A,visitors_B,conversions_A,conversions_B,alpha,two_tails=True):\n",
    "    # Set fonts\n",
    "    reg_text = {\"size\": \"12\"}\n",
    "    text_title = {\"size\": \"14\", \"weight\": \"bold\"}\n",
    "    text_bold = {\"size\": \"12\", \"weight\": \"bold\"}\n",
    "    text_small = {\"size\": \"10\"}\n",
    "        \n",
    "    # get stats, z, power, tail direction\n",
    "    control_cr, variant_cr, relative_difference, control_se, variant_se, se_difference = get_stats(visitors_A, visitors_B, conversions_A, conversions_B)\n",
    "    z = get_z_value(alpha, two_tails)\n",
    "    power = get_power(visitors_A, visitors_B, conversions_A, conversions_B)\n",
    "    tail_direction = get_tail_directions(relative_difference, two_tails)\n",
    "    z_score, p_value = z_test(visitors_A,visitors_B,conversions_A,conversions_B,alpha,two_tails)\n",
    "    \n",
    "    result_dict = {'Control':{'Visitors':visitors_A,\n",
    "                          'Conversions':conversions_A,\n",
    "                          'Conversion Rate':control_cr,\n",
    "                          'Uplift':'',\n",
    "                          'Power':'',\n",
    "                          'Z-score':'',\n",
    "                          'P-value':''},\n",
    "                   'Treatment':{'Visitors':visitors_B,\n",
    "                                'Conversions':conversions_B,\n",
    "                                'Conversion Rate':variant_cr,\n",
    "                                'Uplift':relative_difference,\n",
    "                                'Power':power,\n",
    "                                'Z-score':z_score,\n",
    "                                'P-value':p_value}}\n",
    "    return result_dict"
   ]
  },
  {
   "cell_type": "markdown",
   "metadata": {},
   "source": [
    "## Visualizations within the Notebook"
   ]
  },
  {
   "cell_type": "code",
   "execution_count": 249,
   "metadata": {
    "ExecuteTime": {
     "end_time": "2022-06-30T13:46:17.105700Z",
     "start_time": "2022-06-30T13:46:17.100200Z"
    }
   },
   "outputs": [],
   "source": [
    "visitors_A = control_sample['user_id'].nunique()\n",
    "visitors_B = treatment_sample['user_id'].nunique()\n",
    "conversions_A = control_sample['converted'].sum()\n",
    "conversions_B = treatment_sample['converted'].sum()"
   ]
  },
  {
   "cell_type": "code",
   "execution_count": 250,
   "metadata": {
    "ExecuteTime": {
     "end_time": "2022-06-30T13:46:18.387987Z",
     "start_time": "2022-06-30T13:46:18.384987Z"
    }
   },
   "outputs": [],
   "source": [
    "alpha = 0.05\n",
    "two_tails = True"
   ]
  },
  {
   "cell_type": "markdown",
   "metadata": {},
   "source": [
    "### Show A/B Test Result as Table"
   ]
  },
  {
   "cell_type": "code",
   "execution_count": 251,
   "metadata": {
    "ExecuteTime": {
     "end_time": "2022-06-30T13:46:19.945489Z",
     "start_time": "2022-06-30T13:46:19.927485Z"
    }
   },
   "outputs": [],
   "source": [
    "data = get_table_data(visitors_A,visitors_B,conversions_A,conversions_B,alpha,two_tails)"
   ]
  },
  {
   "cell_type": "code",
   "execution_count": 252,
   "metadata": {
    "ExecuteTime": {
     "end_time": "2022-06-30T13:46:20.425487Z",
     "start_time": "2022-06-30T13:46:20.412985Z"
    }
   },
   "outputs": [
    {
     "data": {
      "application/vnd.plotly.v1+json": {
       "config": {
        "plotlyServerURL": "https://plot.ly"
       },
       "data": [
        {
         "cells": {
          "align": "left",
          "fill": {
           "color": [
            [
             "#F9F9F9",
             "#FFFFFF",
             "#F9F9F9",
             "#FFFFFF",
             "#F9F9F9",
             "#FFFFFF",
             "#F9F9F9",
             "#FFFFFF",
             "#F9F9F9",
             "#FFFFFF"
            ]
           ]
          },
          "values": [
           [
            "A",
            "B"
           ],
           [
            "4,720",
            "4,720"
           ],
           [
            582,
            593
           ],
           [
            "12.33%",
            "12.56%"
           ],
           [
            "",
            "1.89%"
           ],
           [
            "",
            "0.0774"
           ],
           [
            "",
            "0.3430"
           ],
           [
            "",
            "0.7316"
           ]
          ]
         },
         "header": {
          "align": "left",
          "fill": {
           "color": "white"
          },
          "font": {
           "color": "black",
           "size": 12
          },
          "line": {
           "color": "white"
          },
          "values": [
           "<b>Variant</b>",
           "<b>Visitors</b>",
           "<b>Conversions</b>",
           "<b>Conversion rate</b>",
           "<b>Uplift</b>",
           "<b>Power</b>",
           "<b>Z-score</b>",
           "<b>P-value</b>"
          ]
         },
         "type": "table"
        }
       ],
       "layout": {
        "autosize": false,
        "height": 150,
        "margin": {
         "b": 10,
         "l": 20,
         "r": 20,
         "t": 30
        },
        "template": {
         "data": {
          "bar": [
           {
            "error_x": {
             "color": "#2a3f5f"
            },
            "error_y": {
             "color": "#2a3f5f"
            },
            "marker": {
             "line": {
              "color": "#E5ECF6",
              "width": 0.5
             },
             "pattern": {
              "fillmode": "overlay",
              "size": 10,
              "solidity": 0.2
             }
            },
            "type": "bar"
           }
          ],
          "barpolar": [
           {
            "marker": {
             "line": {
              "color": "#E5ECF6",
              "width": 0.5
             },
             "pattern": {
              "fillmode": "overlay",
              "size": 10,
              "solidity": 0.2
             }
            },
            "type": "barpolar"
           }
          ],
          "carpet": [
           {
            "aaxis": {
             "endlinecolor": "#2a3f5f",
             "gridcolor": "white",
             "linecolor": "white",
             "minorgridcolor": "white",
             "startlinecolor": "#2a3f5f"
            },
            "baxis": {
             "endlinecolor": "#2a3f5f",
             "gridcolor": "white",
             "linecolor": "white",
             "minorgridcolor": "white",
             "startlinecolor": "#2a3f5f"
            },
            "type": "carpet"
           }
          ],
          "choropleth": [
           {
            "colorbar": {
             "outlinewidth": 0,
             "ticks": ""
            },
            "type": "choropleth"
           }
          ],
          "contour": [
           {
            "colorbar": {
             "outlinewidth": 0,
             "ticks": ""
            },
            "colorscale": [
             [
              0,
              "#0d0887"
             ],
             [
              0.1111111111111111,
              "#46039f"
             ],
             [
              0.2222222222222222,
              "#7201a8"
             ],
             [
              0.3333333333333333,
              "#9c179e"
             ],
             [
              0.4444444444444444,
              "#bd3786"
             ],
             [
              0.5555555555555556,
              "#d8576b"
             ],
             [
              0.6666666666666666,
              "#ed7953"
             ],
             [
              0.7777777777777778,
              "#fb9f3a"
             ],
             [
              0.8888888888888888,
              "#fdca26"
             ],
             [
              1,
              "#f0f921"
             ]
            ],
            "type": "contour"
           }
          ],
          "contourcarpet": [
           {
            "colorbar": {
             "outlinewidth": 0,
             "ticks": ""
            },
            "type": "contourcarpet"
           }
          ],
          "heatmap": [
           {
            "colorbar": {
             "outlinewidth": 0,
             "ticks": ""
            },
            "colorscale": [
             [
              0,
              "#0d0887"
             ],
             [
              0.1111111111111111,
              "#46039f"
             ],
             [
              0.2222222222222222,
              "#7201a8"
             ],
             [
              0.3333333333333333,
              "#9c179e"
             ],
             [
              0.4444444444444444,
              "#bd3786"
             ],
             [
              0.5555555555555556,
              "#d8576b"
             ],
             [
              0.6666666666666666,
              "#ed7953"
             ],
             [
              0.7777777777777778,
              "#fb9f3a"
             ],
             [
              0.8888888888888888,
              "#fdca26"
             ],
             [
              1,
              "#f0f921"
             ]
            ],
            "type": "heatmap"
           }
          ],
          "heatmapgl": [
           {
            "colorbar": {
             "outlinewidth": 0,
             "ticks": ""
            },
            "colorscale": [
             [
              0,
              "#0d0887"
             ],
             [
              0.1111111111111111,
              "#46039f"
             ],
             [
              0.2222222222222222,
              "#7201a8"
             ],
             [
              0.3333333333333333,
              "#9c179e"
             ],
             [
              0.4444444444444444,
              "#bd3786"
             ],
             [
              0.5555555555555556,
              "#d8576b"
             ],
             [
              0.6666666666666666,
              "#ed7953"
             ],
             [
              0.7777777777777778,
              "#fb9f3a"
             ],
             [
              0.8888888888888888,
              "#fdca26"
             ],
             [
              1,
              "#f0f921"
             ]
            ],
            "type": "heatmapgl"
           }
          ],
          "histogram": [
           {
            "marker": {
             "pattern": {
              "fillmode": "overlay",
              "size": 10,
              "solidity": 0.2
             }
            },
            "type": "histogram"
           }
          ],
          "histogram2d": [
           {
            "colorbar": {
             "outlinewidth": 0,
             "ticks": ""
            },
            "colorscale": [
             [
              0,
              "#0d0887"
             ],
             [
              0.1111111111111111,
              "#46039f"
             ],
             [
              0.2222222222222222,
              "#7201a8"
             ],
             [
              0.3333333333333333,
              "#9c179e"
             ],
             [
              0.4444444444444444,
              "#bd3786"
             ],
             [
              0.5555555555555556,
              "#d8576b"
             ],
             [
              0.6666666666666666,
              "#ed7953"
             ],
             [
              0.7777777777777778,
              "#fb9f3a"
             ],
             [
              0.8888888888888888,
              "#fdca26"
             ],
             [
              1,
              "#f0f921"
             ]
            ],
            "type": "histogram2d"
           }
          ],
          "histogram2dcontour": [
           {
            "colorbar": {
             "outlinewidth": 0,
             "ticks": ""
            },
            "colorscale": [
             [
              0,
              "#0d0887"
             ],
             [
              0.1111111111111111,
              "#46039f"
             ],
             [
              0.2222222222222222,
              "#7201a8"
             ],
             [
              0.3333333333333333,
              "#9c179e"
             ],
             [
              0.4444444444444444,
              "#bd3786"
             ],
             [
              0.5555555555555556,
              "#d8576b"
             ],
             [
              0.6666666666666666,
              "#ed7953"
             ],
             [
              0.7777777777777778,
              "#fb9f3a"
             ],
             [
              0.8888888888888888,
              "#fdca26"
             ],
             [
              1,
              "#f0f921"
             ]
            ],
            "type": "histogram2dcontour"
           }
          ],
          "mesh3d": [
           {
            "colorbar": {
             "outlinewidth": 0,
             "ticks": ""
            },
            "type": "mesh3d"
           }
          ],
          "parcoords": [
           {
            "line": {
             "colorbar": {
              "outlinewidth": 0,
              "ticks": ""
             }
            },
            "type": "parcoords"
           }
          ],
          "pie": [
           {
            "automargin": true,
            "type": "pie"
           }
          ],
          "scatter": [
           {
            "marker": {
             "colorbar": {
              "outlinewidth": 0,
              "ticks": ""
             }
            },
            "type": "scatter"
           }
          ],
          "scatter3d": [
           {
            "line": {
             "colorbar": {
              "outlinewidth": 0,
              "ticks": ""
             }
            },
            "marker": {
             "colorbar": {
              "outlinewidth": 0,
              "ticks": ""
             }
            },
            "type": "scatter3d"
           }
          ],
          "scattercarpet": [
           {
            "marker": {
             "colorbar": {
              "outlinewidth": 0,
              "ticks": ""
             }
            },
            "type": "scattercarpet"
           }
          ],
          "scattergeo": [
           {
            "marker": {
             "colorbar": {
              "outlinewidth": 0,
              "ticks": ""
             }
            },
            "type": "scattergeo"
           }
          ],
          "scattergl": [
           {
            "marker": {
             "colorbar": {
              "outlinewidth": 0,
              "ticks": ""
             }
            },
            "type": "scattergl"
           }
          ],
          "scattermapbox": [
           {
            "marker": {
             "colorbar": {
              "outlinewidth": 0,
              "ticks": ""
             }
            },
            "type": "scattermapbox"
           }
          ],
          "scatterpolar": [
           {
            "marker": {
             "colorbar": {
              "outlinewidth": 0,
              "ticks": ""
             }
            },
            "type": "scatterpolar"
           }
          ],
          "scatterpolargl": [
           {
            "marker": {
             "colorbar": {
              "outlinewidth": 0,
              "ticks": ""
             }
            },
            "type": "scatterpolargl"
           }
          ],
          "scatterternary": [
           {
            "marker": {
             "colorbar": {
              "outlinewidth": 0,
              "ticks": ""
             }
            },
            "type": "scatterternary"
           }
          ],
          "surface": [
           {
            "colorbar": {
             "outlinewidth": 0,
             "ticks": ""
            },
            "colorscale": [
             [
              0,
              "#0d0887"
             ],
             [
              0.1111111111111111,
              "#46039f"
             ],
             [
              0.2222222222222222,
              "#7201a8"
             ],
             [
              0.3333333333333333,
              "#9c179e"
             ],
             [
              0.4444444444444444,
              "#bd3786"
             ],
             [
              0.5555555555555556,
              "#d8576b"
             ],
             [
              0.6666666666666666,
              "#ed7953"
             ],
             [
              0.7777777777777778,
              "#fb9f3a"
             ],
             [
              0.8888888888888888,
              "#fdca26"
             ],
             [
              1,
              "#f0f921"
             ]
            ],
            "type": "surface"
           }
          ],
          "table": [
           {
            "cells": {
             "fill": {
              "color": "#EBF0F8"
             },
             "line": {
              "color": "white"
             }
            },
            "header": {
             "fill": {
              "color": "#C8D4E3"
             },
             "line": {
              "color": "white"
             }
            },
            "type": "table"
           }
          ]
         },
         "layout": {
          "annotationdefaults": {
           "arrowcolor": "#2a3f5f",
           "arrowhead": 0,
           "arrowwidth": 1
          },
          "autotypenumbers": "strict",
          "coloraxis": {
           "colorbar": {
            "outlinewidth": 0,
            "ticks": ""
           }
          },
          "colorscale": {
           "diverging": [
            [
             0,
             "#8e0152"
            ],
            [
             0.1,
             "#c51b7d"
            ],
            [
             0.2,
             "#de77ae"
            ],
            [
             0.3,
             "#f1b6da"
            ],
            [
             0.4,
             "#fde0ef"
            ],
            [
             0.5,
             "#f7f7f7"
            ],
            [
             0.6,
             "#e6f5d0"
            ],
            [
             0.7,
             "#b8e186"
            ],
            [
             0.8,
             "#7fbc41"
            ],
            [
             0.9,
             "#4d9221"
            ],
            [
             1,
             "#276419"
            ]
           ],
           "sequential": [
            [
             0,
             "#0d0887"
            ],
            [
             0.1111111111111111,
             "#46039f"
            ],
            [
             0.2222222222222222,
             "#7201a8"
            ],
            [
             0.3333333333333333,
             "#9c179e"
            ],
            [
             0.4444444444444444,
             "#bd3786"
            ],
            [
             0.5555555555555556,
             "#d8576b"
            ],
            [
             0.6666666666666666,
             "#ed7953"
            ],
            [
             0.7777777777777778,
             "#fb9f3a"
            ],
            [
             0.8888888888888888,
             "#fdca26"
            ],
            [
             1,
             "#f0f921"
            ]
           ],
           "sequentialminus": [
            [
             0,
             "#0d0887"
            ],
            [
             0.1111111111111111,
             "#46039f"
            ],
            [
             0.2222222222222222,
             "#7201a8"
            ],
            [
             0.3333333333333333,
             "#9c179e"
            ],
            [
             0.4444444444444444,
             "#bd3786"
            ],
            [
             0.5555555555555556,
             "#d8576b"
            ],
            [
             0.6666666666666666,
             "#ed7953"
            ],
            [
             0.7777777777777778,
             "#fb9f3a"
            ],
            [
             0.8888888888888888,
             "#fdca26"
            ],
            [
             1,
             "#f0f921"
            ]
           ]
          },
          "colorway": [
           "#636efa",
           "#EF553B",
           "#00cc96",
           "#ab63fa",
           "#FFA15A",
           "#19d3f3",
           "#FF6692",
           "#B6E880",
           "#FF97FF",
           "#FECB52"
          ],
          "font": {
           "color": "#2a3f5f"
          },
          "geo": {
           "bgcolor": "white",
           "lakecolor": "white",
           "landcolor": "#E5ECF6",
           "showlakes": true,
           "showland": true,
           "subunitcolor": "white"
          },
          "hoverlabel": {
           "align": "left"
          },
          "hovermode": "closest",
          "mapbox": {
           "style": "light"
          },
          "paper_bgcolor": "white",
          "plot_bgcolor": "#E5ECF6",
          "polar": {
           "angularaxis": {
            "gridcolor": "white",
            "linecolor": "white",
            "ticks": ""
           },
           "bgcolor": "#E5ECF6",
           "radialaxis": {
            "gridcolor": "white",
            "linecolor": "white",
            "ticks": ""
           }
          },
          "scene": {
           "xaxis": {
            "backgroundcolor": "#E5ECF6",
            "gridcolor": "white",
            "gridwidth": 2,
            "linecolor": "white",
            "showbackground": true,
            "ticks": "",
            "zerolinecolor": "white"
           },
           "yaxis": {
            "backgroundcolor": "#E5ECF6",
            "gridcolor": "white",
            "gridwidth": 2,
            "linecolor": "white",
            "showbackground": true,
            "ticks": "",
            "zerolinecolor": "white"
           },
           "zaxis": {
            "backgroundcolor": "#E5ECF6",
            "gridcolor": "white",
            "gridwidth": 2,
            "linecolor": "white",
            "showbackground": true,
            "ticks": "",
            "zerolinecolor": "white"
           }
          },
          "shapedefaults": {
           "line": {
            "color": "#2a3f5f"
           }
          },
          "ternary": {
           "aaxis": {
            "gridcolor": "white",
            "linecolor": "white",
            "ticks": ""
           },
           "baxis": {
            "gridcolor": "white",
            "linecolor": "white",
            "ticks": ""
           },
           "bgcolor": "#E5ECF6",
           "caxis": {
            "gridcolor": "white",
            "linecolor": "white",
            "ticks": ""
           }
          },
          "title": {
           "x": 0.05
          },
          "xaxis": {
           "automargin": true,
           "gridcolor": "white",
           "linecolor": "white",
           "ticks": "",
           "title": {
            "standoff": 15
           },
           "zerolinecolor": "white",
           "zerolinewidth": 2
          },
          "yaxis": {
           "automargin": true,
           "gridcolor": "white",
           "linecolor": "white",
           "ticks": "",
           "title": {
            "standoff": 15
           },
           "zerolinecolor": "white",
           "zerolinewidth": 2
          }
         }
        }
       }
      },
      "text/html": [
       "<div>                            <div id=\"f5ee9841-9a39-4f67-960a-afe2c9491db3\" class=\"plotly-graph-div\" style=\"height:150px; width:100%;\"></div>            <script type=\"text/javascript\">                require([\"plotly\"], function(Plotly) {                    window.PLOTLYENV=window.PLOTLYENV || {};                                    if (document.getElementById(\"f5ee9841-9a39-4f67-960a-afe2c9491db3\")) {                    Plotly.newPlot(                        \"f5ee9841-9a39-4f67-960a-afe2c9491db3\",                        [{\"cells\":{\"align\":\"left\",\"fill\":{\"color\":[[\"#F9F9F9\",\"#FFFFFF\",\"#F9F9F9\",\"#FFFFFF\",\"#F9F9F9\",\"#FFFFFF\",\"#F9F9F9\",\"#FFFFFF\",\"#F9F9F9\",\"#FFFFFF\"]]},\"values\":[[\"A\",\"B\"],[\"4,720\",\"4,720\"],[582,593],[\"12.33%\",\"12.56%\"],[\"\",\"1.89%\"],[\"\",\"0.0774\"],[\"\",\"0.3430\"],[\"\",\"0.7316\"]]},\"header\":{\"align\":\"left\",\"fill\":{\"color\":\"white\"},\"font\":{\"color\":\"black\",\"size\":12},\"line\":{\"color\":\"white\"},\"values\":[\"<b>Variant</b>\",\"<b>Visitors</b>\",\"<b>Conversions</b>\",\"<b>Conversion rate</b>\",\"<b>Uplift</b>\",\"<b>Power</b>\",\"<b>Z-score</b>\",\"<b>P-value</b>\"]},\"type\":\"table\"}],                        {\"autosize\":false,\"height\":150,\"margin\":{\"b\":10,\"l\":20,\"r\":20,\"t\":30},\"template\":{\"data\":{\"bar\":[{\"error_x\":{\"color\":\"#2a3f5f\"},\"error_y\":{\"color\":\"#2a3f5f\"},\"marker\":{\"line\":{\"color\":\"#E5ECF6\",\"width\":0.5},\"pattern\":{\"fillmode\":\"overlay\",\"size\":10,\"solidity\":0.2}},\"type\":\"bar\"}],\"barpolar\":[{\"marker\":{\"line\":{\"color\":\"#E5ECF6\",\"width\":0.5},\"pattern\":{\"fillmode\":\"overlay\",\"size\":10,\"solidity\":0.2}},\"type\":\"barpolar\"}],\"carpet\":[{\"aaxis\":{\"endlinecolor\":\"#2a3f5f\",\"gridcolor\":\"white\",\"linecolor\":\"white\",\"minorgridcolor\":\"white\",\"startlinecolor\":\"#2a3f5f\"},\"baxis\":{\"endlinecolor\":\"#2a3f5f\",\"gridcolor\":\"white\",\"linecolor\":\"white\",\"minorgridcolor\":\"white\",\"startlinecolor\":\"#2a3f5f\"},\"type\":\"carpet\"}],\"choropleth\":[{\"colorbar\":{\"outlinewidth\":0,\"ticks\":\"\"},\"type\":\"choropleth\"}],\"contour\":[{\"colorbar\":{\"outlinewidth\":0,\"ticks\":\"\"},\"colorscale\":[[0.0,\"#0d0887\"],[0.1111111111111111,\"#46039f\"],[0.2222222222222222,\"#7201a8\"],[0.3333333333333333,\"#9c179e\"],[0.4444444444444444,\"#bd3786\"],[0.5555555555555556,\"#d8576b\"],[0.6666666666666666,\"#ed7953\"],[0.7777777777777778,\"#fb9f3a\"],[0.8888888888888888,\"#fdca26\"],[1.0,\"#f0f921\"]],\"type\":\"contour\"}],\"contourcarpet\":[{\"colorbar\":{\"outlinewidth\":0,\"ticks\":\"\"},\"type\":\"contourcarpet\"}],\"heatmap\":[{\"colorbar\":{\"outlinewidth\":0,\"ticks\":\"\"},\"colorscale\":[[0.0,\"#0d0887\"],[0.1111111111111111,\"#46039f\"],[0.2222222222222222,\"#7201a8\"],[0.3333333333333333,\"#9c179e\"],[0.4444444444444444,\"#bd3786\"],[0.5555555555555556,\"#d8576b\"],[0.6666666666666666,\"#ed7953\"],[0.7777777777777778,\"#fb9f3a\"],[0.8888888888888888,\"#fdca26\"],[1.0,\"#f0f921\"]],\"type\":\"heatmap\"}],\"heatmapgl\":[{\"colorbar\":{\"outlinewidth\":0,\"ticks\":\"\"},\"colorscale\":[[0.0,\"#0d0887\"],[0.1111111111111111,\"#46039f\"],[0.2222222222222222,\"#7201a8\"],[0.3333333333333333,\"#9c179e\"],[0.4444444444444444,\"#bd3786\"],[0.5555555555555556,\"#d8576b\"],[0.6666666666666666,\"#ed7953\"],[0.7777777777777778,\"#fb9f3a\"],[0.8888888888888888,\"#fdca26\"],[1.0,\"#f0f921\"]],\"type\":\"heatmapgl\"}],\"histogram\":[{\"marker\":{\"pattern\":{\"fillmode\":\"overlay\",\"size\":10,\"solidity\":0.2}},\"type\":\"histogram\"}],\"histogram2d\":[{\"colorbar\":{\"outlinewidth\":0,\"ticks\":\"\"},\"colorscale\":[[0.0,\"#0d0887\"],[0.1111111111111111,\"#46039f\"],[0.2222222222222222,\"#7201a8\"],[0.3333333333333333,\"#9c179e\"],[0.4444444444444444,\"#bd3786\"],[0.5555555555555556,\"#d8576b\"],[0.6666666666666666,\"#ed7953\"],[0.7777777777777778,\"#fb9f3a\"],[0.8888888888888888,\"#fdca26\"],[1.0,\"#f0f921\"]],\"type\":\"histogram2d\"}],\"histogram2dcontour\":[{\"colorbar\":{\"outlinewidth\":0,\"ticks\":\"\"},\"colorscale\":[[0.0,\"#0d0887\"],[0.1111111111111111,\"#46039f\"],[0.2222222222222222,\"#7201a8\"],[0.3333333333333333,\"#9c179e\"],[0.4444444444444444,\"#bd3786\"],[0.5555555555555556,\"#d8576b\"],[0.6666666666666666,\"#ed7953\"],[0.7777777777777778,\"#fb9f3a\"],[0.8888888888888888,\"#fdca26\"],[1.0,\"#f0f921\"]],\"type\":\"histogram2dcontour\"}],\"mesh3d\":[{\"colorbar\":{\"outlinewidth\":0,\"ticks\":\"\"},\"type\":\"mesh3d\"}],\"parcoords\":[{\"line\":{\"colorbar\":{\"outlinewidth\":0,\"ticks\":\"\"}},\"type\":\"parcoords\"}],\"pie\":[{\"automargin\":true,\"type\":\"pie\"}],\"scatter\":[{\"marker\":{\"colorbar\":{\"outlinewidth\":0,\"ticks\":\"\"}},\"type\":\"scatter\"}],\"scatter3d\":[{\"line\":{\"colorbar\":{\"outlinewidth\":0,\"ticks\":\"\"}},\"marker\":{\"colorbar\":{\"outlinewidth\":0,\"ticks\":\"\"}},\"type\":\"scatter3d\"}],\"scattercarpet\":[{\"marker\":{\"colorbar\":{\"outlinewidth\":0,\"ticks\":\"\"}},\"type\":\"scattercarpet\"}],\"scattergeo\":[{\"marker\":{\"colorbar\":{\"outlinewidth\":0,\"ticks\":\"\"}},\"type\":\"scattergeo\"}],\"scattergl\":[{\"marker\":{\"colorbar\":{\"outlinewidth\":0,\"ticks\":\"\"}},\"type\":\"scattergl\"}],\"scattermapbox\":[{\"marker\":{\"colorbar\":{\"outlinewidth\":0,\"ticks\":\"\"}},\"type\":\"scattermapbox\"}],\"scatterpolar\":[{\"marker\":{\"colorbar\":{\"outlinewidth\":0,\"ticks\":\"\"}},\"type\":\"scatterpolar\"}],\"scatterpolargl\":[{\"marker\":{\"colorbar\":{\"outlinewidth\":0,\"ticks\":\"\"}},\"type\":\"scatterpolargl\"}],\"scatterternary\":[{\"marker\":{\"colorbar\":{\"outlinewidth\":0,\"ticks\":\"\"}},\"type\":\"scatterternary\"}],\"surface\":[{\"colorbar\":{\"outlinewidth\":0,\"ticks\":\"\"},\"colorscale\":[[0.0,\"#0d0887\"],[0.1111111111111111,\"#46039f\"],[0.2222222222222222,\"#7201a8\"],[0.3333333333333333,\"#9c179e\"],[0.4444444444444444,\"#bd3786\"],[0.5555555555555556,\"#d8576b\"],[0.6666666666666666,\"#ed7953\"],[0.7777777777777778,\"#fb9f3a\"],[0.8888888888888888,\"#fdca26\"],[1.0,\"#f0f921\"]],\"type\":\"surface\"}],\"table\":[{\"cells\":{\"fill\":{\"color\":\"#EBF0F8\"},\"line\":{\"color\":\"white\"}},\"header\":{\"fill\":{\"color\":\"#C8D4E3\"},\"line\":{\"color\":\"white\"}},\"type\":\"table\"}]},\"layout\":{\"annotationdefaults\":{\"arrowcolor\":\"#2a3f5f\",\"arrowhead\":0,\"arrowwidth\":1},\"autotypenumbers\":\"strict\",\"coloraxis\":{\"colorbar\":{\"outlinewidth\":0,\"ticks\":\"\"}},\"colorscale\":{\"diverging\":[[0,\"#8e0152\"],[0.1,\"#c51b7d\"],[0.2,\"#de77ae\"],[0.3,\"#f1b6da\"],[0.4,\"#fde0ef\"],[0.5,\"#f7f7f7\"],[0.6,\"#e6f5d0\"],[0.7,\"#b8e186\"],[0.8,\"#7fbc41\"],[0.9,\"#4d9221\"],[1,\"#276419\"]],\"sequential\":[[0.0,\"#0d0887\"],[0.1111111111111111,\"#46039f\"],[0.2222222222222222,\"#7201a8\"],[0.3333333333333333,\"#9c179e\"],[0.4444444444444444,\"#bd3786\"],[0.5555555555555556,\"#d8576b\"],[0.6666666666666666,\"#ed7953\"],[0.7777777777777778,\"#fb9f3a\"],[0.8888888888888888,\"#fdca26\"],[1.0,\"#f0f921\"]],\"sequentialminus\":[[0.0,\"#0d0887\"],[0.1111111111111111,\"#46039f\"],[0.2222222222222222,\"#7201a8\"],[0.3333333333333333,\"#9c179e\"],[0.4444444444444444,\"#bd3786\"],[0.5555555555555556,\"#d8576b\"],[0.6666666666666666,\"#ed7953\"],[0.7777777777777778,\"#fb9f3a\"],[0.8888888888888888,\"#fdca26\"],[1.0,\"#f0f921\"]]},\"colorway\":[\"#636efa\",\"#EF553B\",\"#00cc96\",\"#ab63fa\",\"#FFA15A\",\"#19d3f3\",\"#FF6692\",\"#B6E880\",\"#FF97FF\",\"#FECB52\"],\"font\":{\"color\":\"#2a3f5f\"},\"geo\":{\"bgcolor\":\"white\",\"lakecolor\":\"white\",\"landcolor\":\"#E5ECF6\",\"showlakes\":true,\"showland\":true,\"subunitcolor\":\"white\"},\"hoverlabel\":{\"align\":\"left\"},\"hovermode\":\"closest\",\"mapbox\":{\"style\":\"light\"},\"paper_bgcolor\":\"white\",\"plot_bgcolor\":\"#E5ECF6\",\"polar\":{\"angularaxis\":{\"gridcolor\":\"white\",\"linecolor\":\"white\",\"ticks\":\"\"},\"bgcolor\":\"#E5ECF6\",\"radialaxis\":{\"gridcolor\":\"white\",\"linecolor\":\"white\",\"ticks\":\"\"}},\"scene\":{\"xaxis\":{\"backgroundcolor\":\"#E5ECF6\",\"gridcolor\":\"white\",\"gridwidth\":2,\"linecolor\":\"white\",\"showbackground\":true,\"ticks\":\"\",\"zerolinecolor\":\"white\"},\"yaxis\":{\"backgroundcolor\":\"#E5ECF6\",\"gridcolor\":\"white\",\"gridwidth\":2,\"linecolor\":\"white\",\"showbackground\":true,\"ticks\":\"\",\"zerolinecolor\":\"white\"},\"zaxis\":{\"backgroundcolor\":\"#E5ECF6\",\"gridcolor\":\"white\",\"gridwidth\":2,\"linecolor\":\"white\",\"showbackground\":true,\"ticks\":\"\",\"zerolinecolor\":\"white\"}},\"shapedefaults\":{\"line\":{\"color\":\"#2a3f5f\"}},\"ternary\":{\"aaxis\":{\"gridcolor\":\"white\",\"linecolor\":\"white\",\"ticks\":\"\"},\"baxis\":{\"gridcolor\":\"white\",\"linecolor\":\"white\",\"ticks\":\"\"},\"bgcolor\":\"#E5ECF6\",\"caxis\":{\"gridcolor\":\"white\",\"linecolor\":\"white\",\"ticks\":\"\"}},\"title\":{\"x\":0.05},\"xaxis\":{\"automargin\":true,\"gridcolor\":\"white\",\"linecolor\":\"white\",\"ticks\":\"\",\"title\":{\"standoff\":15},\"zerolinecolor\":\"white\",\"zerolinewidth\":2},\"yaxis\":{\"automargin\":true,\"gridcolor\":\"white\",\"linecolor\":\"white\",\"ticks\":\"\",\"title\":{\"standoff\":15},\"zerolinecolor\":\"white\",\"zerolinewidth\":2}}}},                        {\"responsive\": true}                    ).then(function(){\n",
       "                            \n",
       "var gd = document.getElementById('f5ee9841-9a39-4f67-960a-afe2c9491db3');\n",
       "var x = new MutationObserver(function (mutations, observer) {{\n",
       "        var display = window.getComputedStyle(gd).display;\n",
       "        if (!display || display === 'none') {{\n",
       "            console.log([gd, 'removed!']);\n",
       "            Plotly.purge(gd);\n",
       "            observer.disconnect();\n",
       "        }}\n",
       "}});\n",
       "\n",
       "// Listen for the removal of the full notebook cells\n",
       "var notebookContainer = gd.closest('#notebook-container');\n",
       "if (notebookContainer) {{\n",
       "    x.observe(notebookContainer, {childList: true});\n",
       "}}\n",
       "\n",
       "// Listen for the clearing of the current output cell\n",
       "var outputEl = gd.closest('.output');\n",
       "if (outputEl) {{\n",
       "    x.observe(outputEl, {childList: true});\n",
       "}}\n",
       "\n",
       "                        })                };                });            </script>        </div>"
      ]
     },
     "metadata": {},
     "output_type": "display_data"
    }
   ],
   "source": [
    "create_plotly_table(data)"
   ]
  },
  {
   "cell_type": "markdown",
   "metadata": {},
   "source": [
    "### Z-test Visualizations"
   ]
  },
  {
   "cell_type": "code",
   "execution_count": 253,
   "metadata": {
    "ExecuteTime": {
     "end_time": "2022-06-30T13:46:21.801987Z",
     "start_time": "2022-06-30T13:46:21.701970Z"
    }
   },
   "outputs": [
    {
     "data": {
      "image/png": "[encoded data removed]",
      "text/plain": [
       "<Figure size 1500x750 with 1 Axes>"
      ]
     },
     "metadata": {
      "needs_background": "light"
     },
     "output_type": "display_data"
    }
   ],
   "source": [
    "plot_test_visualisation(visitors_A,visitors_B,conversions_A,conversions_B,alpha,two_tails)"
   ]
  },
  {
   "cell_type": "markdown",
   "metadata": {},
   "source": [
    "### Power Plot"
   ]
  },
  {
   "cell_type": "code",
   "execution_count": 254,
   "metadata": {
    "ExecuteTime": {
     "end_time": "2022-06-30T13:46:25.092001Z",
     "start_time": "2022-06-30T13:46:24.970980Z"
    }
   },
   "outputs": [
    {
     "data": {
      "image/png": "[encoded data removed]",
      "text/plain": [
       "<Figure size 1500x750 with 1 Axes>"
      ]
     },
     "metadata": {
      "needs_background": "light"
     },
     "output_type": "display_data"
    }
   ],
   "source": [
    "plot_power(visitors_A,visitors_B,conversions_A,conversions_B,alpha,two_tails)"
   ]
  },
  {
   "cell_type": "markdown",
   "metadata": {},
   "source": [
    "## Data for Dashboard"
   ]
  },
  {
   "cell_type": "markdown",
   "metadata": {},
   "source": [
    "## Result Table"
   ]
  },
  {
   "cell_type": "code",
   "execution_count": 255,
   "metadata": {
    "ExecuteTime": {
     "end_time": "2022-06-30T13:46:27.514980Z",
     "start_time": "2022-06-30T13:46:27.496477Z"
    }
   },
   "outputs": [],
   "source": [
    "result_dict = get_table_dash(visitors_A,visitors_B,conversions_A,conversions_B,alpha,two_tails)\n",
    "result_df = pd.DataFrame.from_dict(result_dict, orient='index')"
   ]
  },
  {
   "cell_type": "code",
   "execution_count": 256,
   "metadata": {
    "ExecuteTime": {
     "end_time": "2022-06-30T13:46:28.041478Z",
     "start_time": "2022-06-30T13:46:28.031977Z"
    }
   },
   "outputs": [
    {
     "data": {
      "text/html": [
       "<div>\n",
       "<style scoped>\n",
       "    .dataframe tbody tr th:only-of-type {\n",
       "        vertical-align: middle;\n",
       "    }\n",
       "\n",
       "    .dataframe tbody tr th {\n",
       "        vertical-align: top;\n",
       "    }\n",
       "\n",
       "    .dataframe thead th {\n",
       "        text-align: right;\n",
       "    }\n",
       "</style>\n",
       "<table border=\"1\" class=\"dataframe\">\n",
       "  <thead>\n",
       "    <tr style=\"text-align: right;\">\n",
       "      <th></th>\n",
       "      <th>Visitors</th>\n",
       "      <th>Conversions</th>\n",
       "      <th>Conversion Rate</th>\n",
       "      <th>Uplift</th>\n",
       "      <th>Power</th>\n",
       "      <th>Z-score</th>\n",
       "      <th>P-value</th>\n",
       "    </tr>\n",
       "  </thead>\n",
       "  <tbody>\n",
       "    <tr>\n",
       "      <th>Control</th>\n",
       "      <td>4720</td>\n",
       "      <td>582</td>\n",
       "      <td>0.123305</td>\n",
       "      <td></td>\n",
       "      <td></td>\n",
       "      <td></td>\n",
       "      <td></td>\n",
       "    </tr>\n",
       "    <tr>\n",
       "      <th>Treatment</th>\n",
       "      <td>4720</td>\n",
       "      <td>593</td>\n",
       "      <td>0.125636</td>\n",
       "      <td>0.0189003</td>\n",
       "      <td>0.0773544</td>\n",
       "      <td>0.342956</td>\n",
       "      <td>0.731632</td>\n",
       "    </tr>\n",
       "  </tbody>\n",
       "</table>\n",
       "</div>"
      ],
      "text/plain": [
       "           Visitors  Conversions  Conversion Rate     Uplift      Power   Z-score   P-value\n",
       "Control        4720          582         0.123305                                          \n",
       "Treatment      4720          593         0.125636  0.0189003  0.0773544  0.342956  0.731632"
      ]
     },
     "execution_count": 256,
     "metadata": {},
     "output_type": "execute_result"
    }
   ],
   "source": [
    "result_df"
   ]
  },
  {
   "cell_type": "markdown",
   "metadata": {},
   "source": [
    "### Z-Test Plot"
   ]
  },
  {
   "cell_type": "code",
   "execution_count": 260,
   "metadata": {
    "ExecuteTime": {
     "end_time": "2022-06-30T13:46:36.760968Z",
     "start_time": "2022-06-30T13:46:36.756968Z"
    }
   },
   "outputs": [],
   "source": [
    "# get stats, z, power, tail direction\n",
    "control_cr, variant_cr, relative_difference, control_se, variant_se, se_difference = get_stats(visitors_A, visitors_B, conversions_A, conversions_B)\n",
    "z = get_z_value(alpha, two_tails)\n",
    "power = get_power(visitors_A, visitors_B, conversions_A, conversions_B)"
   ]
  },
  {
   "cell_type": "code",
   "execution_count": 261,
   "metadata": {
    "ExecuteTime": {
     "end_time": "2022-06-30T13:46:42.873294Z",
     "start_time": "2022-06-30T13:46:42.867293Z"
    }
   },
   "outputs": [],
   "source": [
    "xA_z_test = np.linspace(0 - 4 * se_difference, 0 + 4 * se_difference, 1000)\n",
    "yA_z_test = scs.norm(0, se_difference).pdf(xA_z_test)\n",
    "df_z_test = pd.DataFrame({'x':xA_z_test, 'y':yA_z_test})\n",
    "df_z_test['diff']=variant_cr - control_cr\n",
    "df_z_test['observed_diff']=relative_difference"
   ]
  },
  {
   "cell_type": "code",
   "execution_count": 262,
   "metadata": {
    "ExecuteTime": {
     "end_time": "2022-06-30T13:46:43.244857Z",
     "start_time": "2022-06-30T13:46:43.224853Z"
    }
   },
   "outputs": [
    {
     "data": {
      "text/html": [
       "<div>\n",
       "<style scoped>\n",
       "    .dataframe tbody tr th:only-of-type {\n",
       "        vertical-align: middle;\n",
       "    }\n",
       "\n",
       "    .dataframe tbody tr th {\n",
       "        vertical-align: top;\n",
       "    }\n",
       "\n",
       "    .dataframe thead th {\n",
       "        text-align: right;\n",
       "    }\n",
       "</style>\n",
       "<table border=\"1\" class=\"dataframe\">\n",
       "  <thead>\n",
       "    <tr style=\"text-align: right;\">\n",
       "      <th></th>\n",
       "      <th>x</th>\n",
       "      <th>y</th>\n",
       "      <th>diff</th>\n",
       "      <th>observed_diff</th>\n",
       "    </tr>\n",
       "  </thead>\n",
       "  <tbody>\n",
       "    <tr>\n",
       "      <th>0</th>\n",
       "      <td>-0.027181</td>\n",
       "      <td>0.019694</td>\n",
       "      <td>0.002331</td>\n",
       "      <td>0.0189</td>\n",
       "    </tr>\n",
       "    <tr>\n",
       "      <th>1</th>\n",
       "      <td>-0.027127</td>\n",
       "      <td>0.020335</td>\n",
       "      <td>0.002331</td>\n",
       "      <td>0.0189</td>\n",
       "    </tr>\n",
       "    <tr>\n",
       "      <th>2</th>\n",
       "      <td>-0.027072</td>\n",
       "      <td>0.020995</td>\n",
       "      <td>0.002331</td>\n",
       "      <td>0.0189</td>\n",
       "    </tr>\n",
       "    <tr>\n",
       "      <th>3</th>\n",
       "      <td>-0.027018</td>\n",
       "      <td>0.021675</td>\n",
       "      <td>0.002331</td>\n",
       "      <td>0.0189</td>\n",
       "    </tr>\n",
       "    <tr>\n",
       "      <th>4</th>\n",
       "      <td>-0.026964</td>\n",
       "      <td>0.022375</td>\n",
       "      <td>0.002331</td>\n",
       "      <td>0.0189</td>\n",
       "    </tr>\n",
       "    <tr>\n",
       "      <th>...</th>\n",
       "      <td>...</td>\n",
       "      <td>...</td>\n",
       "      <td>...</td>\n",
       "      <td>...</td>\n",
       "    </tr>\n",
       "    <tr>\n",
       "      <th>995</th>\n",
       "      <td>0.026964</td>\n",
       "      <td>0.022375</td>\n",
       "      <td>0.002331</td>\n",
       "      <td>0.0189</td>\n",
       "    </tr>\n",
       "    <tr>\n",
       "      <th>996</th>\n",
       "      <td>0.027018</td>\n",
       "      <td>0.021675</td>\n",
       "      <td>0.002331</td>\n",
       "      <td>0.0189</td>\n",
       "    </tr>\n",
       "    <tr>\n",
       "      <th>997</th>\n",
       "      <td>0.027072</td>\n",
       "      <td>0.020995</td>\n",
       "      <td>0.002331</td>\n",
       "      <td>0.0189</td>\n",
       "    </tr>\n",
       "    <tr>\n",
       "      <th>998</th>\n",
       "      <td>0.027127</td>\n",
       "      <td>0.020335</td>\n",
       "      <td>0.002331</td>\n",
       "      <td>0.0189</td>\n",
       "    </tr>\n",
       "    <tr>\n",
       "      <th>999</th>\n",
       "      <td>0.027181</td>\n",
       "      <td>0.019694</td>\n",
       "      <td>0.002331</td>\n",
       "      <td>0.0189</td>\n",
       "    </tr>\n",
       "  </tbody>\n",
       "</table>\n",
       "<p>1000 rows × 4 columns</p>\n",
       "</div>"
      ],
      "text/plain": [
       "            x         y      diff  observed_diff\n",
       "0   -0.027181  0.019694  0.002331         0.0189\n",
       "1   -0.027127  0.020335  0.002331         0.0189\n",
       "2   -0.027072  0.020995  0.002331         0.0189\n",
       "3   -0.027018  0.021675  0.002331         0.0189\n",
       "4   -0.026964  0.022375  0.002331         0.0189\n",
       "..        ...       ...       ...            ...\n",
       "995  0.026964  0.022375  0.002331         0.0189\n",
       "996  0.027018  0.021675  0.002331         0.0189\n",
       "997  0.027072  0.020995  0.002331         0.0189\n",
       "998  0.027127  0.020335  0.002331         0.0189\n",
       "999  0.027181  0.019694  0.002331         0.0189\n",
       "\n",
       "[1000 rows x 4 columns]"
      ]
     },
     "execution_count": 262,
     "metadata": {},
     "output_type": "execute_result"
    }
   ],
   "source": [
    "df_z_test"
   ]
  },
  {
   "cell_type": "markdown",
   "metadata": {},
   "source": [
    "### Power Plot"
   ]
  },
  {
   "cell_type": "code",
   "execution_count": 269,
   "metadata": {
    "ExecuteTime": {
     "end_time": "2022-06-30T13:47:21.204423Z",
     "start_time": "2022-06-30T13:47:21.196421Z"
    }
   },
   "outputs": [],
   "source": [
    "xA_power = np.linspace(control_cr - 4 * control_se,control_cr + 4 * control_se,1000,)\n",
    "yA_power = scs.norm(control_cr, control_se).pdf(xA_power)\n",
    "xB_power = np.linspace(variant_cr - 4 * variant_se,variant_cr + 4 * variant_se,1000,)\n",
    "yB_power = scs.norm(variant_cr, variant_se).pdf(xB_power)\n",
    "crit_val_min = control_cr - control_se * z\n",
    "crit_val_max = control_cr + control_se * z"
   ]
  },
  {
   "cell_type": "code",
   "execution_count": 270,
   "metadata": {
    "ExecuteTime": {
     "end_time": "2022-06-30T13:47:22.717421Z",
     "start_time": "2022-06-30T13:47:22.706420Z"
    }
   },
   "outputs": [],
   "source": [
    "power_dict_x = {'Control':{'x':xA_power},'Treatment':{'x':xB_power}}\n",
    "power_dict_y = {'Control':{'y':yA_power},'Treatment':{'y':yB_power}}\n",
    "power_df_x = pd.DataFrame.from_dict(power_dict_x, orient='index')\n",
    "power_df_y = pd.DataFrame.from_dict(power_dict_y, orient='index')"
   ]
  },
  {
   "cell_type": "code",
   "execution_count": 271,
   "metadata": {
    "ExecuteTime": {
     "end_time": "2022-06-30T13:47:23.228423Z",
     "start_time": "2022-06-30T13:47:23.208919Z"
    }
   },
   "outputs": [],
   "source": [
    "power_df_x = power_df_x.explode('x')\n",
    "power_df_y = power_df_y.explode('y')\n",
    "df_power = pd.concat([power_df_x, power_df_y], axis=1, join=\"inner\")"
   ]
  },
  {
   "cell_type": "code",
   "execution_count": 276,
   "metadata": {
    "ExecuteTime": {
     "end_time": "2022-06-30T13:48:27.879853Z",
     "start_time": "2022-06-30T13:48:27.871352Z"
    }
   },
   "outputs": [
    {
     "data": {
      "text/html": [
       "<div>\n",
       "<style scoped>\n",
       "    .dataframe tbody tr th:only-of-type {\n",
       "        vertical-align: middle;\n",
       "    }\n",
       "\n",
       "    .dataframe tbody tr th {\n",
       "        vertical-align: top;\n",
       "    }\n",
       "\n",
       "    .dataframe thead th {\n",
       "        text-align: right;\n",
       "    }\n",
       "</style>\n",
       "<table border=\"1\" class=\"dataframe\">\n",
       "  <thead>\n",
       "    <tr style=\"text-align: right;\">\n",
       "      <th></th>\n",
       "      <th>x</th>\n",
       "      <th>y</th>\n",
       "    </tr>\n",
       "  </thead>\n",
       "  <tbody>\n",
       "    <tr>\n",
       "      <th>Control</th>\n",
       "      <td>0.104162</td>\n",
       "      <td>0.0279647</td>\n",
       "    </tr>\n",
       "    <tr>\n",
       "      <th>Control</th>\n",
       "      <td>0.104201</td>\n",
       "      <td>0.0288741</td>\n",
       "    </tr>\n",
       "    <tr>\n",
       "      <th>Control</th>\n",
       "      <td>0.104239</td>\n",
       "      <td>0.0298111</td>\n",
       "    </tr>\n",
       "    <tr>\n",
       "      <th>Control</th>\n",
       "      <td>0.104277</td>\n",
       "      <td>0.0307765</td>\n",
       "    </tr>\n",
       "    <tr>\n",
       "      <th>Control</th>\n",
       "      <td>0.104316</td>\n",
       "      <td>0.0317712</td>\n",
       "    </tr>\n",
       "    <tr>\n",
       "      <th>...</th>\n",
       "      <td>...</td>\n",
       "      <td>...</td>\n",
       "    </tr>\n",
       "    <tr>\n",
       "      <th>Treatment</th>\n",
       "      <td>0.144778</td>\n",
       "      <td>0.031517</td>\n",
       "    </tr>\n",
       "    <tr>\n",
       "      <th>Treatment</th>\n",
       "      <td>0.144817</td>\n",
       "      <td>0.0305303</td>\n",
       "    </tr>\n",
       "    <tr>\n",
       "      <th>Treatment</th>\n",
       "      <td>0.144855</td>\n",
       "      <td>0.0295726</td>\n",
       "    </tr>\n",
       "    <tr>\n",
       "      <th>Treatment</th>\n",
       "      <td>0.144894</td>\n",
       "      <td>0.0286431</td>\n",
       "    </tr>\n",
       "    <tr>\n",
       "      <th>Treatment</th>\n",
       "      <td>0.144933</td>\n",
       "      <td>0.027741</td>\n",
       "    </tr>\n",
       "  </tbody>\n",
       "</table>\n",
       "<p>2000 rows × 2 columns</p>\n",
       "</div>"
      ],
      "text/plain": [
       "                  x          y\n",
       "Control    0.104162  0.0279647\n",
       "Control    0.104201  0.0288741\n",
       "Control    0.104239  0.0298111\n",
       "Control    0.104277  0.0307765\n",
       "Control    0.104316  0.0317712\n",
       "...             ...        ...\n",
       "Treatment  0.144778   0.031517\n",
       "Treatment  0.144817  0.0305303\n",
       "Treatment  0.144855  0.0295726\n",
       "Treatment  0.144894  0.0286431\n",
       "Treatment  0.144933   0.027741\n",
       "\n",
       "[2000 rows x 2 columns]"
      ]
     },
     "execution_count": 276,
     "metadata": {},
     "output_type": "execute_result"
    }
   ],
   "source": [
    "df_power"
   ]
  },
  {
   "cell_type": "code",
   "execution_count": 277,
   "metadata": {
    "ExecuteTime": {
     "end_time": "2022-06-30T13:48:28.529325Z",
     "start_time": "2022-06-30T13:48:28.513822Z"
    }
   },
   "outputs": [],
   "source": [
    "df_power_crit = power_df_y.copy()\n",
    "df_power_crit['crit_val_min'] = crit_val_min\n",
    "df_power_crit['crit_val_max'] = crit_val_max"
   ]
  },
  {
   "cell_type": "code",
   "execution_count": 278,
   "metadata": {
    "ExecuteTime": {
     "end_time": "2022-06-30T13:48:28.916917Z",
     "start_time": "2022-06-30T13:48:28.900414Z"
    }
   },
   "outputs": [
    {
     "data": {
      "text/html": [
       "<div>\n",
       "<style scoped>\n",
       "    .dataframe tbody tr th:only-of-type {\n",
       "        vertical-align: middle;\n",
       "    }\n",
       "\n",
       "    .dataframe tbody tr th {\n",
       "        vertical-align: top;\n",
       "    }\n",
       "\n",
       "    .dataframe thead th {\n",
       "        text-align: right;\n",
       "    }\n",
       "</style>\n",
       "<table border=\"1\" class=\"dataframe\">\n",
       "  <thead>\n",
       "    <tr style=\"text-align: right;\">\n",
       "      <th></th>\n",
       "      <th>y</th>\n",
       "      <th>crit_val_min</th>\n",
       "      <th>crit_val_max</th>\n",
       "    </tr>\n",
       "  </thead>\n",
       "  <tbody>\n",
       "    <tr>\n",
       "      <th>Control</th>\n",
       "      <td>0.0279647</td>\n",
       "      <td>0.113925</td>\n",
       "      <td>0.132685</td>\n",
       "    </tr>\n",
       "    <tr>\n",
       "      <th>Control</th>\n",
       "      <td>0.0288741</td>\n",
       "      <td>0.113925</td>\n",
       "      <td>0.132685</td>\n",
       "    </tr>\n",
       "    <tr>\n",
       "      <th>Control</th>\n",
       "      <td>0.0298111</td>\n",
       "      <td>0.113925</td>\n",
       "      <td>0.132685</td>\n",
       "    </tr>\n",
       "    <tr>\n",
       "      <th>Control</th>\n",
       "      <td>0.0307765</td>\n",
       "      <td>0.113925</td>\n",
       "      <td>0.132685</td>\n",
       "    </tr>\n",
       "    <tr>\n",
       "      <th>Control</th>\n",
       "      <td>0.0317712</td>\n",
       "      <td>0.113925</td>\n",
       "      <td>0.132685</td>\n",
       "    </tr>\n",
       "    <tr>\n",
       "      <th>...</th>\n",
       "      <td>...</td>\n",
       "      <td>...</td>\n",
       "      <td>...</td>\n",
       "    </tr>\n",
       "    <tr>\n",
       "      <th>Treatment</th>\n",
       "      <td>0.031517</td>\n",
       "      <td>0.113925</td>\n",
       "      <td>0.132685</td>\n",
       "    </tr>\n",
       "    <tr>\n",
       "      <th>Treatment</th>\n",
       "      <td>0.0305303</td>\n",
       "      <td>0.113925</td>\n",
       "      <td>0.132685</td>\n",
       "    </tr>\n",
       "    <tr>\n",
       "      <th>Treatment</th>\n",
       "      <td>0.0295726</td>\n",
       "      <td>0.113925</td>\n",
       "      <td>0.132685</td>\n",
       "    </tr>\n",
       "    <tr>\n",
       "      <th>Treatment</th>\n",
       "      <td>0.0286431</td>\n",
       "      <td>0.113925</td>\n",
       "      <td>0.132685</td>\n",
       "    </tr>\n",
       "    <tr>\n",
       "      <th>Treatment</th>\n",
       "      <td>0.027741</td>\n",
       "      <td>0.113925</td>\n",
       "      <td>0.132685</td>\n",
       "    </tr>\n",
       "  </tbody>\n",
       "</table>\n",
       "<p>2000 rows × 3 columns</p>\n",
       "</div>"
      ],
      "text/plain": [
       "                   y  crit_val_min  crit_val_max\n",
       "Control    0.0279647      0.113925      0.132685\n",
       "Control    0.0288741      0.113925      0.132685\n",
       "Control    0.0298111      0.113925      0.132685\n",
       "Control    0.0307765      0.113925      0.132685\n",
       "Control    0.0317712      0.113925      0.132685\n",
       "...              ...           ...           ...\n",
       "Treatment   0.031517      0.113925      0.132685\n",
       "Treatment  0.0305303      0.113925      0.132685\n",
       "Treatment  0.0295726      0.113925      0.132685\n",
       "Treatment  0.0286431      0.113925      0.132685\n",
       "Treatment   0.027741      0.113925      0.132685\n",
       "\n",
       "[2000 rows x 3 columns]"
      ]
     },
     "execution_count": 278,
     "metadata": {},
     "output_type": "execute_result"
    }
   ],
   "source": [
    "df_power_crit"
   ]
  },
  {
   "cell_type": "markdown",
   "metadata": {},
   "source": [
    "### Download Results"
   ]
  },
  {
   "cell_type": "code",
   "execution_count": 284,
   "metadata": {
    "ExecuteTime": {
     "end_time": "2022-06-30T13:50:59.722198Z",
     "start_time": "2022-06-30T13:50:59.700695Z"
    }
   },
   "outputs": [],
   "source": [
    "ab_test_df.to_csv('ab_sample.csv')"
   ]
  },
  {
   "cell_type": "code",
   "execution_count": 285,
   "metadata": {
    "ExecuteTime": {
     "end_time": "2022-06-30T13:51:00.001252Z",
     "start_time": "2022-06-30T13:50:59.987251Z"
    }
   },
   "outputs": [],
   "source": [
    "result_df.to_csv('ab_result_table.csv')"
   ]
  },
  {
   "cell_type": "code",
   "execution_count": 286,
   "metadata": {
    "ExecuteTime": {
     "end_time": "2022-06-30T13:51:00.280301Z",
     "start_time": "2022-06-30T13:51:00.266300Z"
    }
   },
   "outputs": [],
   "source": [
    "df_z_test.to_csv('ab_z_test.csv')"
   ]
  },
  {
   "cell_type": "code",
   "execution_count": 287,
   "metadata": {
    "ExecuteTime": {
     "end_time": "2022-06-30T13:51:00.605868Z",
     "start_time": "2022-06-30T13:51:00.591862Z"
    }
   },
   "outputs": [],
   "source": [
    "df_power.to_csv('ab_power.csv')"
   ]
  },
  {
   "cell_type": "code",
   "execution_count": 288,
   "metadata": {
    "ExecuteTime": {
     "end_time": "2022-06-30T13:51:00.931432Z",
     "start_time": "2022-06-30T13:51:00.914928Z"
    }
   },
   "outputs": [],
   "source": [
    "df_power_crit.to_csv('ab_power_crit.csv')"
   ]
  },
  {
   "cell_type": "code",
   "execution_count": null,
   "metadata": {},
   "outputs": [],
   "source": []
  }
 ],
 "metadata": {
  "kernelspec": {
   "display_name": "Python 3",
   "language": "python",
   "name": "python3"
  },
  "language_info": {
   "codemirror_mode": {
    "name": "ipython",
    "version": 3
   },
   "file_extension": ".py",
   "mimetype": "text/x-python",
   "name": "python",
   "nbconvert_exporter": "python",
   "pygments_lexer": "ipython3",
   "version": "3.8.5"
  },
  "toc": {
   "base_numbering": 1,
   "nav_menu": {},
   "number_sections": true,
   "sideBar": true,
   "skip_h1_title": false,
   "title_cell": "Table of Contents",
   "title_sidebar": "Contents",
   "toc_cell": false,
   "toc_position": {},
   "toc_section_display": true,
   "toc_window_display": false
  },
  "varInspector": {
   "cols": {
    "lenName": 16,
    "lenType": 16,
    "lenVar": 40
   },
   "kernels_config": {
    "python": {
     "delete_cmd_postfix": "",
     "delete_cmd_prefix": "del ",
     "library": "var_list.py",
     "varRefreshCmd": "print(var_dic_list())"
    },
    "r": {
     "delete_cmd_postfix": ") ",
     "delete_cmd_prefix": "rm(",
     "library": "var_list.r",
     "varRefreshCmd": "cat(var_dic_list()) "
    }
   },
   "types_to_exclude": [
    "module",
    "function",
    "builtin_function_or_method",
    "instance",
    "_Feature"
   ],
   "window_display": false
  }
 },
 "nbformat": 4,
 "nbformat_minor": 4
}
